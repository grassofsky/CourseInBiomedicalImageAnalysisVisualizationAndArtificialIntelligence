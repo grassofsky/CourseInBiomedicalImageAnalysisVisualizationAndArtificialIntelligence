{
 "cells": [
  {
   "cell_type": "markdown",
   "metadata": {
    "slideshow": {
     "slide_type": "slide"
    }
   },
   "source": [
    "# Introduction to the Insight Toolkit (ITK)\n",
    "\n",
    "# ITK介绍"
   ]
  },
  {
   "cell_type": "markdown",
   "metadata": {
    "slideshow": {
     "slide_type": "subslide"
    }
   },
   "source": [
    "### Learning Objectives\n",
    "\n",
    "* Learn how to **run** cells in **a Jupyter Notebook**\n",
    "* Run a segmentation example that demonstrates **ITK**'s ability to provide **insight into images**\n",
    "* Understand the **purpose and capabilities** of the toolkit\n",
    "\n",
    "### 学习目标\n",
    "\n",
    "* 学会如何使用**a Jupyter Notebook**的**run** cells功能\n",
    "* 运行分割示例，演示**ITK**能够用来洞察影像"
   ]
  },
  {
   "cell_type": "markdown",
   "metadata": {
    "slideshow": {
     "slide_type": "slide"
    }
   },
   "source": [
    "## Jupyter Notebooks"
   ]
  },
  {
   "cell_type": "markdown",
   "metadata": {
    "slideshow": {
     "slide_type": "subslide"
    }
   },
   "source": [
    "These are [Jupyter Notebooks](https://jupyter.org/), an open-source web application that allows you to create and share documents that contain live code, equations, visualizations and narrative text.\n",
    "\n",
    "To run cells in the notebook, press *shift + enter*.\n",
    "\n",
    "For more information, see the [Notebook Help](https://nbviewer.jupyter.org/github/ipython/ipython/blob/3.x/examples/Notebook/Index.ipynb)\n",
    "\n",
    "Jupyter是一个开源的web应用，允许你创建和分享代码，公式，显示，文本集于一身的文档。\n",
    "\n",
    "使用*shift + enter*快捷键来运行notebook中的cell。\n",
    "\n",
    "更多的信息，见[Notebook Help](https://nbviewer.jupyter.org/github/ipython/ipython/blob/3.x/examples/Notebook/Index.ipynb)"
   ]
  },
  {
   "cell_type": "markdown",
   "metadata": {
    "slideshow": {
     "slide_type": "slide"
    }
   },
   "source": [
    "## Insight Into Images 洞察影像"
   ]
  },
  {
   "cell_type": "code",
   "execution_count": 1,
   "metadata": {
    "slideshow": {
     "slide_type": "slide"
    }
   },
   "outputs": [],
   "source": [
    "import itk\n",
    "\n",
    "from itkwidgets import view"
   ]
  },
  {
   "cell_type": "markdown",
   "metadata": {},
   "source": [
    "mha用来存储医学影像的的文件格式，其中包括消息头和具体数值内容两部分，对于`data/brainweb165a10f17.mha`，通过命令`head -n 15 data/brainweb165a10f17.mha`来查看消息头，显示的内容如下：\n",
    "\n",
    "```\n",
    "ObjectType = Image              # 对象类型\n",
    "NDims = 3                    # 数据维度\n",
    "BinaryData = True               # 是否是二进制数据\n",
    "BinaryDataByteOrderMSB = False      # 是否是big-endian\n",
    "CompressedData = True            # 是否被压缩\n",
    "CompressedDataSize = 5477411       # 压缩后的数据大小\n",
    "TransformMatrix = 1 0 0 0 1 0 0 0 1  # 转换矩阵\n",
    "Offset = 0 0 0                # 图像第一个像素在解剖坐标系中的坐标\n",
    "CenterOfRotation = 0 0 0         # 旋转中心\n",
    "AnatomicalOrientation = RAI       # 为解剖坐标系的From方向，即病人坐标系，左L，右R，前A，后P，上S，下I。\n",
    "ElementSpacing = 1 1 1           # 元素之间的spacing\n",
    "ITK_InputFilterName = MetaImageIO    # 输入数据的Filter，名称\n",
    "DimSize = 181 217 180            # 图像尺寸\n",
    "ElementType = MET_UCHAR          # 数据格式\n",
    "ElementDataFile = LOCAL          # 数据路径，LOCAL意思为存储在当前文件中\n",
    "```\n",
    "\n",
    "更多内容可以参见：https://www.jarvis73.cn/2019/06/24/Medical-Imaging-Guide/\n"
   ]
  },
  {
   "cell_type": "code",
   "execution_count": 8,
   "metadata": {},
   "outputs": [],
   "source": [
    "view?"
   ]
  },
  {
   "cell_type": "code",
   "execution_count": 2,
   "metadata": {
    "slideshow": {
     "slide_type": "fragment"
    }
   },
   "outputs": [
    {
     "data": {
      "application/vnd.jupyter.widget-view+json": {
       "model_id": "ac435d14f29148e1aa12da4a2a3b8167",
       "version_major": 2,
       "version_minor": 0
      },
      "text/plain": [
       "Viewer(geometries=[], gradient_opacity=0.8, point_sets=[], rendered_image=<itkImagePython.itkImageF3; proxy of…"
      ]
     },
     "metadata": {},
     "output_type": "display_data"
    }
   ],
   "source": [
    "file_name = 'data/brainweb165a10f17.mha'\n",
    "image = itk.imread(file_name, itk.ctype('float')) # 读取影像文件，并将数据格式转换为float\n",
    "view(image, slicing_planes=True, gradient_opacity=0.8, ui_collapsed=True) # 显示影像，可以使用view?查看更多命令相关的帮助"
   ]
  },
  {
   "cell_type": "code",
   "execution_count": 4,
   "metadata": {},
   "outputs": [],
   "source": [
    "itk.curvature_flow_image_filter?"
   ]
  },
  {
   "cell_type": "code",
   "execution_count": 5,
   "metadata": {
    "slideshow": {
     "slide_type": "subslide"
    }
   },
   "outputs": [
    {
     "data": {
      "application/vnd.jupyter.widget-view+json": {
       "model_id": "ff99631d27aa4f61bd7c00496c45b10d",
       "version_major": 2,
       "version_minor": 0
      },
      "text/plain": [
       "Viewer(geometries=[], gradient_opacity=0.8, point_sets=[], rendered_image=<itkImagePython.itkImageF3; proxy of…"
      ]
     },
     "metadata": {},
     "output_type": "display_data"
    }
   ],
   "source": [
    "# Smooth the image,一种降噪算法，原理不懂呀。\n",
    "smoothed = itk.curvature_flow_image_filter(image,\n",
    "                                          number_of_iterations=6,\n",
    "                                          time_step=0.005)\n",
    "view(smoothed, slicing_planes=True, gradient_opacity=0.8, ui_collapsed=True)"
   ]
  },
  {
   "cell_type": "code",
   "execution_count": 6,
   "metadata": {
    "slideshow": {
     "slide_type": "subslide"
    }
   },
   "outputs": [],
   "source": [
    "# Segment the white matter with a 3D region-growing algorithm\n",
    "confidence_connected = itk.ConfidenceConnectedImageFilter.New(smoothed)\n",
    "confidence_connected.SetMultiplier(2.5)\n",
    "confidence_connected.SetNumberOfIterations(5)\n",
    "confidence_connected.SetInitialNeighborhoodRadius(2)\n",
    "confidence_connected.SetReplaceValue(255)\n",
    "\n",
    "confidence_connected.AddSeed([118, 133, 92])\n",
    "confidence_connected.AddSeed([63, 135, 94])\n",
    "confidence_connected.AddSeed([63, 157, 90])\n",
    "confidence_connected.AddSeed([111, 150, 90])\n",
    "confidence_connected.AddSeed([111, 50, 88])"
   ]
  },
  {
   "cell_type": "code",
   "execution_count": 7,
   "metadata": {
    "slideshow": {
     "slide_type": "subslide"
    }
   },
   "outputs": [
    {
     "data": {
      "application/vnd.jupyter.widget-view+json": {
       "model_id": "5f699133342a4dc793ce3e4340509850",
       "version_major": 2,
       "version_minor": 0
      },
      "text/plain": [
       "Viewer(annotations=False, cmap='BuPu', geometries=[], gradient_opacity=0.22, point_sets=[], rendered_image=<it…"
      ]
     },
     "metadata": {},
     "output_type": "display_data"
    }
   ],
   "source": [
    "confidence_connected.Update()\n",
    "view(confidence_connected, ui_collapsed=True, cmap='BuPu', shadow=False, annotations=False)"
   ]
  },
  {
   "cell_type": "markdown",
   "metadata": {
    "slideshow": {
     "slide_type": "slide"
    }
   },
   "source": [
    "## History of ITK"
   ]
  },
  {
   "cell_type": "markdown",
   "metadata": {
    "slideshow": {
     "slide_type": "subslide"
    }
   },
   "source": [
    "### Insight into Images\n",
    "\n",
    "![Visible Human Head Rendering](data/VisibleHumanHeadRender.png)\n",
    "\n",
    "http://itk.org"
   ]
  },
  {
   "cell_type": "markdown",
   "metadata": {
    "slideshow": {
     "slide_type": "subslide"
    }
   },
   "source": [
    "### History\n",
    "\n",
    "In 1999, the US National Institute of Health’s (NIH) National Library of Medicine (NLM) started a project to support the Visible Human Project.\n",
    "\n",
    "1999年，美国国立卫生研究所（NIH）国家医学图书馆（NLM）启动了一个项目用来支持可视人类项目。\n",
    "\n",
    "![Visible Human Logo](data/VisibleHumanLogo.png)\n",
    "\n",
    "![Visible Human Slice](data/VisibleHumanSlice.png)\n"
   ]
  },
  {
   "cell_type": "markdown",
   "metadata": {
    "slideshow": {
     "slide_type": "subslide"
    }
   },
   "source": [
    "### Goals\n",
    "\n",
    "* Collect best-of-the-best image analysis algorithms for reproducible science.\n",
    "* Provide a software resource for teaching medical image analysis algorithms.\n",
    "* Establish a foundation for future research.\n",
    "* Support commercial applications.\n",
    "* Create conventions for future work.\n",
    "* Grow a self-sustaining community of software users and developers.\n",
    "\n",
    "### 目标\n",
    "\n",
    "* 为可重现的科学收集最好的图像分析算法。\n",
    "* 提供用于医学影像分析算法教学的软件资源。\n",
    "* 为未来的研究奠定基础。\n",
    "* 支撑商业应用。\n",
    "* 为未来的工作提供便捷性。\n",
    "* 发展一个由软件用户和开发人员组成的自我维持的社区。"
   ]
  },
  {
   "cell_type": "markdown",
   "metadata": {
    "slideshow": {
     "slide_type": "subslide"
    }
   },
   "source": [
    "### Continued Development\n",
    "\n",
    "* Development has progressed since 1999\n",
    "* Contributions from over 267 developers\n",
    "* Over 1.6 million lines of code\n",
    "* Downloaded over 500,000 times\n",
    "\n",
    "### 持续发展\n",
    "\n",
    "* 从1999年开始持续到现在\n",
    "* 来自267为开发人员的贡献\n",
    "* 超过160万行的代码\n",
    "* 下载超过500,000次\n",
    "\n",
    "![ITK contributors](data/itk-contributors.png)\n",
    "\n",
    "ITK contributors locations for the 4.8 and 4.9 releases."
   ]
  },
  {
   "cell_type": "markdown",
   "metadata": {
    "slideshow": {
     "slide_type": "slide"
    }
   },
   "source": [
    "## Features\n",
    "\n",
    "## 特征"
   ]
  },
  {
   "cell_type": "markdown",
   "metadata": {
    "slideshow": {
     "slide_type": "subslide"
    }
   },
   "source": [
    "### N-Dimensional Image Filtering\n",
    "\n",
    "### N-维图像滤波\n",
    "\n",
    "![Filtering](data/Filtering.png)"
   ]
  },
  {
   "cell_type": "markdown",
   "metadata": {
    "slideshow": {
     "slide_type": "subslide"
    }
   },
   "source": [
    "### Filtering Algorithms Classes\n",
    "\n",
    "* Fast marching methods\n",
    "* Convolution\n",
    "* Image gradient\n",
    "* Denoising\n",
    "* Thresholding\n",
    "* Mathematical morphology\n",
    "* Smoothing\n",
    "* Image features\n",
    "* Image statistics\n",
    "* Bias correction\n",
    "* Image grid operations\n",
    "* ....\n",
    "\n",
    "### 滤波算法类别\n",
    "\n",
    "* 快速行进法\n",
    "* 卷积\n",
    "* 图像梯度\n",
    "* 降噪\n",
    "* 阈值\n",
    "* 数学形态学\n",
    "* 平滑\n",
    "* 图像特征\n",
    "* 图像统计\n",
    "* 贝叶斯校准\n",
    "* 图像刚性变换\n",
    "* ...."
   ]
  },
  {
   "cell_type": "markdown",
   "metadata": {
    "slideshow": {
     "slide_type": "subslide"
    }
   },
   "source": [
    "### Segmentation\n",
    "\n",
    "\"Image segmentation is the process of partitioning a digital image into multiple segments, i.e. sets of pixels. The goal of segmentation is to simplify and/or change the representation of an image into something that is more meaningful and easier to analyze.\"\n",
    "\n",
    "Source: [Wikipedia](https://en.wikipedia.org/wiki/Image_segmentation)\n",
    "\n",
    "### 分割\n",
    "\n",
    "\"图像分割是将数字图像分割成多个部分的过程，即像素集。分割的目的是简化和/或改变图像的表现形式，使之更有意义，更易于分析。\"\n",
    "\n",
    "Source: [Wikipedia](https://en.wikipedia.org/wiki/Image_segmentation)"
   ]
  },
  {
   "cell_type": "markdown",
   "metadata": {
    "slideshow": {
     "slide_type": "subslide"
    }
   },
   "source": [
    "### Segmentation\n",
    "\n",
    "![Segmentation](data/SegmentationLevelSet.png)"
   ]
  },
  {
   "cell_type": "markdown",
   "metadata": {
    "slideshow": {
     "slide_type": "subslide"
    }
   },
   "source": [
    "### Segmentation\n",
    "\n",
    "![Segmentation](data/Segmentation1.png)"
   ]
  },
  {
   "cell_type": "markdown",
   "metadata": {
    "slideshow": {
     "slide_type": "subslide"
    }
   },
   "source": [
    "### Segmentation\n",
    "\n",
    "![Segmentation](data/Segmentation2.png)"
   ]
  },
  {
   "cell_type": "markdown",
   "metadata": {
    "slideshow": {
     "slide_type": "subslide"
    }
   },
   "source": [
    "### Segmentation\n",
    "\n",
    "![Segmentation](data/Segmentation3.png)"
   ]
  },
  {
   "cell_type": "markdown",
   "metadata": {
    "slideshow": {
     "slide_type": "subslide"
    }
   },
   "source": [
    "### Segmentation\n",
    "\n",
    "![Segmentation](data/Segmentation4.png)"
   ]
  },
  {
   "cell_type": "markdown",
   "metadata": {
    "slideshow": {
     "slide_type": "subslide"
    }
   },
   "source": [
    "### Segmentation\n",
    "\n",
    "![Segmentation](data/Segmentation5.png)"
   ]
  },
  {
   "cell_type": "markdown",
   "metadata": {
    "slideshow": {
     "slide_type": "subslide"
    }
   },
   "source": [
    "### Registration\n",
    "\n",
    "\"Image registration is the process of transforming different sets of data into one coordinate system. [...] Registration is necessary in order to be able to compare or integrate the data obtained from these different measurements.\"\n",
    "\n",
    "Source: [Wikipedia](https://en.wikipedia.org/wiki/Image_registration)\n",
    "\n",
    "### 配准\n",
    "\n",
    "图像配准是将不同的数据集转换为一个坐标系的过程。[……]为了能够比较或整合从这些不同测量中获得的数据，必须进行配准。\n",
    "\n",
    "Source: [Wikipedia](https://en.wikipedia.org/wiki/Image_registration)"
   ]
  },
  {
   "cell_type": "markdown",
   "metadata": {
    "slideshow": {
     "slide_type": "subslide"
    }
   },
   "source": [
    "### Registration\n",
    "\n",
    "![Registration](data/Registration.png)"
   ]
  },
  {
   "cell_type": "markdown",
   "metadata": {
    "slideshow": {
     "slide_type": "subslide"
    }
   },
   "source": [
    "### Other Data Structures\n",
    "\n",
    "* Mesh's\n",
    "* Transforms's\n",
    "* SpatialObject's\n",
    "* Path's\n",
    "* LabelMap's\n",
    "\n",
    "### 其他的数据结构\n",
    "\n",
    "* 网格\n",
    "* 形变\n",
    "* 空间对象\n",
    "* 路径\n",
    "* 标签图\n",
    "\n",
    "![Mesh](data/Mesh.png)\n",
    "\n",
    "![Transform](data/Transformation.png)"
   ]
  },
  {
   "cell_type": "markdown",
   "metadata": {
    "slideshow": {
     "slide_type": "subslide"
    }
   },
   "source": [
    "### ITK Resources\n",
    "\n",
    "* ITK Software Guide: https://www.itk.org/ItkSoftwareGuide.pdf\n",
    "\n",
    "* Discourse Discussion: https://discourse.itk.org\n",
    "\n",
    "* Sphinx Examples: https://www.itk.org/ITKExamples\n",
    "\n",
    "* `ITK/Examples/` directory in the ITK source code repository\n",
    "\n",
    "* Doxygen: http://www.itk.org/Doxygen/html/index.html\n",
    "\n",
    "* Kitware: https://www.kitware.com/\n",
    "\n",
    "### ITK 资源\n",
    "\n",
    "* ITK软件指导: https://www.itk.org/ItkSoftwareGuide.pdf\n",
    "\n",
    "* Discourse讨论：https://discourse.itk.org\n",
    "\n",
    "* 示例: https://www.itk.org/ITKExamples\n",
    "\n",
    "* ITK源代码中的`ITK/Examples/`目录\n",
    "\n",
    "* Doxygen文档: http://www.itk.org/Doxygen/html/index.html\n",
    "\n",
    "* Kitware: https://www.kitware.com/"
   ]
  },
  {
   "cell_type": "markdown",
   "metadata": {
    "slideshow": {
     "slide_type": "subslide"
    }
   },
   "source": [
    "### Kitware, Inc\n",
    "\n",
    "\n",
    "![Kitware ITK](data/KitwareITK.jpg)\n",
    "\n",
    "![Kitware overview](data/KitwareOverview.jpg)\n",
    "\n",
    "- Collaborative, Open Source, Scientific Software Development\n",
    "- Carrboro, NC, near University of North Carolina-Chapel Hill, in the Research Triangle"
   ]
  },
  {
   "cell_type": "markdown",
   "metadata": {
    "slideshow": {
     "slide_type": "subslide"
    }
   },
   "source": [
    "### Enjoy ITK!"
   ]
  }
 ],
 "metadata": {
  "kernelspec": {
   "display_name": "Python 3",
   "language": "python",
   "name": "python3"
  },
  "language_info": {
   "codemirror_mode": {
    "name": "ipython",
    "version": 3
   },
   "file_extension": ".py",
   "mimetype": "text/x-python",
   "name": "python",
   "nbconvert_exporter": "python",
   "pygments_lexer": "ipython3",
   "version": "3.7.1"
  }
 },
 "nbformat": 4,
 "nbformat_minor": 1
}
