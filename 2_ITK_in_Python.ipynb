{
 "cells": [
  {
   "cell_type": "markdown",
   "metadata": {
    "slideshow": {
     "slide_type": "slide"
    }
   },
   "source": [
    "# ITK in Python\n",
    "\n",
    "# python使用ITK"
   ]
  },
  {
   "cell_type": "markdown",
   "metadata": {
    "slideshow": {
     "slide_type": "slide"
    }
   },
   "source": [
    "### Learning Objectives\n",
    "\n",
    "* Learn how to write simple Python code with ITK\n",
    "* Become familiar with the functional and object-oriented interfaces to ITK in Python\n",
    "* Understand how to bridge ITK with machine learning libraries with [NumPy](https://numpy.org/)\n",
    "\n",
    "### 学习目标\n",
    "\n",
    "* 学习如何使用ITK写简单的python代码\n",
    "* 熟悉python的ITK接口，对象\n",
    "* 了解如何将ITK与机器学习库通过[NumPy](https://numpy.org/)连接起来。"
   ]
  },
  {
   "cell_type": "markdown",
   "metadata": {
    "slideshow": {
     "slide_type": "slide"
    }
   },
   "source": [
    "# Working with NumPy and friends\n",
    "\n",
    "* ITK is great at reading and processing images\n",
    "* Some algorithms are not available in ITK\n",
    "* NumPy is great at processing arrays in simple ways\n",
    "* NumPy arrays can be read by many other Python packages\n",
    "    * [matplotlib](https://matplotlib.org)\n",
    "    * [scikit-learn](https://scikit-learn.org)\n",
    "    * [PyTorch](https://pytorch.org)\n",
    "    * [TensorFlow](https://www.tensorflow.org)\n",
    "    * [scikit-image](https://scikit-image.org)\n",
    "    * [OpenCV](https://opencv.org)\n",
    "    \n",
    "# 与NumPy和朋友一起工作\n",
    "\n",
    "* ITK擅长用来读取和处理影像\n",
    "* 一些算法没有包含在ITK中\n",
    "* NumPy擅长用简单的方式处理数组\n",
    "* NumPy数组能够被其他很多的Python包使用：\n",
    "    * [matplotlib](https://matplotlib.org)\n",
    "    * [scikit-learn](https://scikit-learn.org)\n",
    "    * [PyTorch](https://pytorch.org)\n",
    "    * [TensorFlow](https://www.tensorflow.org)\n",
    "    * [scikit-image](https://scikit-image.org)\n",
    "    * [OpenCV](https://opencv.org)"
   ]
  },
  {
   "cell_type": "code",
   "execution_count": 1,
   "metadata": {
    "slideshow": {
     "slide_type": "subslide"
    }
   },
   "outputs": [],
   "source": [
    "import itk\n",
    "from itkwidgets import view\n",
    "\n",
    "import numpy as np\n",
    "\n",
    "import matplotlib.pyplot as plt\n",
    "%matplotlib inline"
   ]
  },
  {
   "cell_type": "code",
   "execution_count": 2,
   "metadata": {
    "slideshow": {
     "slide_type": "subslide"
    }
   },
   "outputs": [
    {
     "data": {
      "application/vnd.jupyter.widget-view+json": {
       "model_id": "c9f98ca8006d45c4949afe17945ebf2a",
       "version_major": 2,
       "version_minor": 0
      },
      "text/plain": [
       "Viewer(geometries=[], gradient_opacity=0.22, point_sets=[], rendered_image=<itkImagePython.itkImageRGBUC2; pro…"
      ]
     },
     "metadata": {},
     "output_type": "display_data"
    }
   ],
   "source": [
    "image = itk.imread(\"data/KitwareITK.jpg\")\n",
    "view(image, ui_collapsed=True)"
   ]
  },
  {
   "cell_type": "code",
   "execution_count": 3,
   "metadata": {
    "slideshow": {
     "slide_type": "fragment"
    }
   },
   "outputs": [
    {
     "name": "stdout",
     "output_type": "stream",
     "text": [
      "[51 56 60]\n"
     ]
    }
   ],
   "source": [
    "array = itk.array_from_image(image)\n",
    "print(array[1,1])"
   ]
  },
  {
   "cell_type": "markdown",
   "metadata": {
    "slideshow": {
     "slide_type": "subslide"
    }
   },
   "source": [
    "Let go the other way around: NumPy array to an ITK image. First, we create an array with some values.\n",
    "\n",
    "实现将NumPy数组转换成ITK图像。首先创建一个数组。"
   ]
  },
  {
   "cell_type": "code",
   "execution_count": 4,
   "metadata": {
    "slideshow": {
     "slide_type": "fragment"
    }
   },
   "outputs": [],
   "source": [
    "def make_gaussian(size, fwhm=3, center=None):\n",
    "    \"\"\" Make a square gaussian kernel.\n",
    "\n",
    "    size is the length of a side of the square\n",
    "    fwhm is full-width-half-maximum, which\n",
    "    can be considered an effective radius.\n",
    "    \"\"\"\n",
    "\n",
    "    x = np.arange(0, size, 1, np.float32)\n",
    "    y = x[:,np.newaxis]\n",
    "\n",
    "    if center is None:\n",
    "        x0 = y0 = size // 2\n",
    "    else:\n",
    "        x0 = center[0]\n",
    "        y0 = center[1]\n",
    "\n",
    "    return np.exp(-4*np.log(2) * ((x-x0)**2 + (y-y0)**2) / fwhm**2)\n",
    "\n",
    "\n",
    "array = make_gaussian(11)"
   ]
  },
  {
   "cell_type": "markdown",
   "metadata": {
    "slideshow": {
     "slide_type": "subslide"
    }
   },
   "source": [
    "Let's look at the array. We use `matplotlib` or `itkwidgets.view` to do this."
   ]
  },
  {
   "cell_type": "code",
   "execution_count": 5,
   "metadata": {
    "slideshow": {
     "slide_type": "fragment"
    }
   },
   "outputs": [
    {
     "data": {
      "text/plain": [
       "(-0.5, 10.5, 10.5, -0.5)"
      ]
     },
     "execution_count": 5,
     "metadata": {},
     "output_type": "execute_result"
    },
    {
     "data": {
      "image/png": "[encoded data removed]",
      "text/plain": [
       "<Figure size 432x288 with 1 Axes>"
      ]
     },
     "metadata": {
      "needs_background": "light"
     },
     "output_type": "display_data"
    }
   ],
   "source": [
    "plt.gray()\n",
    "plt.imshow(array)\n",
    "plt.axis('off')"
   ]
  },
  {
   "cell_type": "code",
   "execution_count": 6,
   "metadata": {
    "slideshow": {
     "slide_type": "subslide"
    }
   },
   "outputs": [
    {
     "data": {
      "application/vnd.jupyter.widget-view+json": {
       "model_id": "ec911e05dc544d31addd95278c109c53",
       "version_major": 2,
       "version_minor": 0
      },
      "text/plain": [
       "Viewer(cmap='Grayscale', geometries=[], gradient_opacity=0.22, interpolation=False, point_sets=[], rendered_im…"
      ]
     },
     "metadata": {},
     "output_type": "display_data"
    }
   ],
   "source": [
    "image = itk.image_from_array(array)\n",
    "view(image, cmap='Grayscale', interpolation=False)"
   ]
  },
  {
   "cell_type": "markdown",
   "metadata": {
    "slideshow": {
     "slide_type": "slide"
    }
   },
   "source": [
    "## Exercises\n",
    "\n",
    "## 练习"
   ]
  },
  {
   "cell_type": "markdown",
   "metadata": {
    "slideshow": {
     "slide_type": "subslide"
    }
   },
   "source": [
    "### Exercise 1: Visualize an image\n",
    "* Read an image with ITK\n",
    "* Apply a filter\n",
    "* Show both original image and filtered images with matplotlib\n",
    "\n",
    "### 练习1：显示一张图\n",
    "* 使用ITK读取一张图\n",
    "* 进行滤波\n",
    "* 使用matplotlib显示原始图像和滤波后的图像"
   ]
  },
  {
   "cell_type": "code",
   "execution_count": 7,
   "metadata": {
    "slideshow": {
     "slide_type": "subslide"
    }
   },
   "outputs": [],
   "source": [
    "image = itk.imread('data/CBCT-TextureInput.png', itk.F)"
   ]
  },
  {
   "cell_type": "code",
   "execution_count": 8,
   "metadata": {
    "slideshow": {
     "slide_type": "subslide"
    }
   },
   "outputs": [],
   "source": [
    "# %load solutions/2_ITK_in_Python_answers_Exercise1.py"
   ]
  },
  {
   "cell_type": "markdown",
   "metadata": {},
   "source": [
    "好吧，既然要进行滤波，那么就先查一下，itk有哪些滤波方法吧，直接百度或bing检索“ITK filter”。找到：https://itk.org/Doxygen/html/group__ImageFilters.html \n",
    "\n",
    "就简单的选择一个中值滤波吧。"
   ]
  },
  {
   "cell_type": "code",
   "execution_count": 9,
   "metadata": {},
   "outputs": [],
   "source": [
    "itk.MedianImageFilter?"
   ]
  },
  {
   "cell_type": "code",
   "execution_count": 14,
   "metadata": {},
   "outputs": [
    {
     "data": {
      "text/plain": [
       "(-0.5, 10.5, 10.5, -0.5)"
      ]
     },
     "execution_count": 14,
     "metadata": {},
     "output_type": "execute_result"
    },
    {
     "data": {
      "image/png": "[encoded data removed]",
      "text/plain": [
       "<Figure size 432x288 with 2 Axes>"
      ]
     },
     "metadata": {
      "needs_background": "light"
     },
     "output_type": "display_data"
    }
   ],
   "source": [
    "image_filtered = itk.MedianImageFilter(image)\n",
    "image_ori = itk.array_from_image(image) # 原始图像\n",
    "image_filtered = itk.array_from_image(image_filtered) # 滤波后的图像\n",
    "\n",
    "plt.subplot(1,2,1)\n",
    "plt.imshow(image_ori, cmap=\"gray\") # 显示原图\n",
    "plt.title(\"Ori Image\")\n",
    "plt.axis('off')\n",
    "\n",
    "plt.subplot(1,2,2)\n",
    "plt.imshow(image_filtered, cmap=\"gray\") \n",
    "plt.title(\"Filtered Image\")\n",
    "plt.axis('off')"
   ]
  },
  {
   "cell_type": "markdown",
   "metadata": {
    "collapsed": true,
    "slideshow": {
     "slide_type": "slide"
    }
   },
   "source": [
    "## Views vs Copies\n",
    "\n",
    "## 视图vs拷贝"
   ]
  },
  {
   "cell_type": "markdown",
   "metadata": {
    "slideshow": {
     "slide_type": "subslide"
    }
   },
   "source": [
    "So far we have used \n",
    "\n",
    "到目前为止我们已经使用了\n",
    "\n",
    "- `itk.array_from_image()`\n",
    "- `itk.image_from_array()`.\n",
    "\n",
    "Also available:\n",
    "\n",
    "同时可用的还有：\n",
    "\n",
    "- `itk.array_view_from_image()`\n",
    "- `itk.image_view_from_array()`\n",
    "\n",
    "You can see the keyword **view** in both the names of these functions.\n",
    "\n",
    "这些函数中都带有**view**\n",
    "\n",
    "How to they differ in their behavior?\n",
    "\n",
    "那么他们的表现行为有什么不同呢？"
   ]
  },
  {
   "cell_type": "markdown",
   "metadata": {
    "slideshow": {
     "slide_type": "subslide"
    }
   },
   "source": [
    "Let's compare the result of `itk.array_view_from_image()` and `itk.array_from_image()`.\n",
    "\n",
    "让我们来比较一下 `itk.array_view_from_image()` 和 `itk.array_from_image()`的结果吧。"
   ]
  },
  {
   "cell_type": "code",
   "execution_count": 9,
   "metadata": {
    "slideshow": {
     "slide_type": "subslide"
    }
   },
   "outputs": [
    {
     "data": {
      "text/plain": [
       "Text(0.5, 1.0, 'Copy')"
      ]
     },
     "execution_count": 9,
     "metadata": {},
     "output_type": "execute_result"
    },
    {
     "data": {
      "image/png": "[encoded data removed]",
      "text/plain": [
       "<Figure size 432x288 with 2 Axes>"
      ]
     },
     "metadata": {
      "needs_background": "light"
     },
     "output_type": "display_data"
    }
   ],
   "source": [
    "gaussian = itk.gaussian_image_source(size=11, sigma=3, scale=100, mean=[5,5])\n",
    "\n",
    "arr_view_gaussian = itk.array_view_from_image(gaussian)\n",
    "arr_gaussian = itk.array_from_image(gaussian)\n",
    "\n",
    "gaussian.SetPixel([5,5], 0)\n",
    "\n",
    "plt.subplot(1, 2, 1)\n",
    "plt.imshow(arr_view_gaussian)\n",
    "plt.title(\"View\")\n",
    "\n",
    "plt.subplot(1, 2, 2)\n",
    "plt.imshow(arr_gaussian)\n",
    "plt.title(\"Copy\")"
   ]
  },
  {
   "cell_type": "markdown",
   "metadata": {
    "slideshow": {
     "slide_type": "subslide"
    }
   },
   "source": [
    "### Exercise 2: ITK image to NumPy array\n",
    "\n",
    "* Read an image with ITK\n",
    "\n",
    "--\n",
    "\n",
    "* Convert image to NumPy array as a view\n",
    "* Modify a pixel in the image\n",
    "* Has the array been modified?\n",
    "\n",
    "--\n",
    "\n",
    "* Convert image to NumPy array as a copy\n",
    "* Modify a pixel in the image\n",
    "* Has the array been modified?\n",
    "\n",
    "### 练习 2: ITK图像转换成NumPy数组\n",
    "\n",
    "* 使用ITK读取一张图\n",
    "\n",
    "-- \n",
    "\n",
    "* 将图像以View形式转换成NumPy数组\n",
    "* 改变数组的像素\n",
    "* 图像是不是被改变了\n",
    "\n",
    "-- \n",
    "\n",
    "* 将图像以copy的形式转换成NumPy数组\n",
    "* 改变数组的像素\n",
    "* 图像是不是被改变了"
   ]
  },
  {
   "cell_type": "code",
   "execution_count": 10,
   "metadata": {},
   "outputs": [],
   "source": [
    "# %load solutions/2_ITK_and_NumPy_answers_Exercise2.py"
   ]
  },
  {
   "cell_type": "code",
   "execution_count": 16,
   "metadata": {},
   "outputs": [
    {
     "name": "stdout",
     "output_type": "stream",
     "text": [
      "Pixel in original image:  6\n",
      "Pixel after view changed:  1\n",
      "Pixel after copy changed:  1\n"
     ]
    }
   ],
   "source": [
    "gaussian = itk.gaussian_image_source(size=11, sigma=3, scale=100, mean=[5,5])\n",
    "\n",
    "arr_view_gaussian = itk.array_view_from_image(gaussian)\n",
    "arr_gaussian = itk.array_from_image(gaussian)\n",
    "\n",
    "print(\"Pixel in original image: \", gaussian.GetPixel([0,0]))\n",
    "\n",
    "arr_view_gaussian[0,0] = 1\n",
    "print(\"Pixel after view changed: \", gaussian.GetPixel([0,0]))\n",
    "\n",
    "arr_gaussian[0,0] = 2\n",
    "print(\"Pixel after copy changed: \", gaussian.GetPixel([0,0]))"
   ]
  },
  {
   "cell_type": "markdown",
   "metadata": {
    "slideshow": {
     "slide_type": "slide"
    }
   },
   "source": [
    "## Templated Types\n",
    "\n",
    "* Is my ITK type templated? (hint: usually, yes)\n",
    "\n",
    "## 模板类型\n",
    "\n",
    "* 我的ITK类型是模板类型吗（通常回答是，是）"
   ]
  },
  {
   "cell_type": "code",
   "execution_count": 11,
   "metadata": {
    "slideshow": {
     "slide_type": "fragment"
    }
   },
   "outputs": [
    {
     "name": "stdout",
     "output_type": "stream",
     "text": [
      "Help on itkTemplate in module itkTemplate object:\n",
      "\n",
      "itk::Image = class itkTemplate(builtins.object)\n",
      " |  This class manages access to available template arguments of a C++ class.\n",
      " |  \n",
      " |  This class is generic and does not give help on the methods available in\n",
      " |  the instantiated class. To get help on a specific ITK class, instantiate an\n",
      " |  object of that class.\n",
      " |  \n",
      " |  e.g.: median = itk.MedianImageFilter[ImageType, ImageType].New()\n",
      " |        help(median)\n",
      " |  \n",
      " |  There are two ways to access types:\n",
      " |  \n",
      " |  1. With a dict interface. The user can manipulate template parameters\n",
      " |  similarly to C++, with the exception that the available parameters sets are\n",
      " |  chosen at compile time. It is also possible, with the dict interface, to\n",
      " |  explore the available parameters sets.\n",
      " |  2. With object attributes. The user can easily find the available parameters\n",
      " |  sets by pressing tab in interperter like ipython\n",
      " |  \n",
      " |  Methods defined here:\n",
      " |  \n",
      " |  GetTypes(self)\n",
      " |      Helper method which prints out the available template parameters.\n",
      " |  \n",
      " |  GetTypesAsList(self)\n",
      " |      Helper method which returns the available template parameters.\n",
      " |  \n",
      " |  New(self, *args, **kwargs)\n",
      " |      Instantiate the template with a type implied from its input.\n",
      " |      \n",
      " |      Template type specification can be avoided by assuming that the type's\n",
      " |      first template argument should have the same type as its primary input.\n",
      " |      This is generally true. If it is not true, then specify the types\n",
      " |      explicitly.\n",
      " |      \n",
      " |      For example, instead of the explicit type specification::\n",
      " |      \n",
      " |        median = itk.MedianImageFilter[ImageType, ImageType].New()\n",
      " |        median.SetInput(reader.GetOutput())\n",
      " |      \n",
      " |      call::\n",
      " |      \n",
      " |        median = itk.MedianImageFilter.New(Input=reader.GetOutput())\n",
      " |      \n",
      " |      or, the shortened::\n",
      " |      \n",
      " |        median = itk.MedianImageFilter.New(reader.GetOutput())\n",
      " |      \n",
      " |      or:\n",
      " |      \n",
      " |        median = itk.MedianImageFilter.New(reader)\n",
      " |  \n",
      " |  __add__(self, paramSetString, cl)\n",
      " |      Add a new argument set and the resulting class to the template.\n",
      " |      \n",
      " |      paramSetString is the C++ string which defines the parameters set.\n",
      " |      cl is the class which corresponds to the couple template-argument set.\n",
      " |  \n",
      " |  __call__(self, *args, **kwargs)\n",
      " |      Deprecated procedural interface function.\n",
      " |      \n",
      " |      Use snake case function instead. This function is now\n",
      " |      merely a wrapper around the snake case function (more\n",
      " |      specifically around `__internal_call__()` to avoid\n",
      " |      creating a new instance twice).\n",
      " |      \n",
      " |      Create a process object, update with the inputs and\n",
      " |      attributes, and return the result.\n",
      " |      \n",
      " |      The syntax is the same as the one used in New().\n",
      " |      \n",
      " |      UpdateLargestPossibleRegion() is execute and the current output,\n",
      " |      or tuple of outputs if there is more than one, is returned.\n",
      " |      \n",
      " |      For example,\n",
      " |      \n",
      " |        outputImage = itk.MedianImageFilter(inputImage, Radius=(1,2))\n",
      " |  \n",
      " |  __contains__(self, key)\n",
      " |  \n",
      " |  __dir__(self)\n",
      " |      Returns the list of the attributes available in the current template.\n",
      " |      \n",
      " |      This loads all the modules that might be required by this template first,\n",
      " |      and then returns the list of attributes. It is used when dir() is called\n",
      " |      or when it tries to autocomplete attribute names.\n",
      " |  \n",
      " |  __find_param__(self, paramSetString)\n",
      " |      Find the parameters of the template.\n",
      " |      \n",
      " |      paramSetString is the C++ string which defines the parameters set.\n",
      " |      \n",
      " |      __find_param__ returns a list of itk classes, itkCType, and/or numbers\n",
      " |      which correspond to the parameters described in paramSetString.\n",
      " |      The parameters MUST have been registered before calling this method,\n",
      " |      or __find_param__ will return a string and not the wanted object, and\n",
      " |      will display a warning. Registration order is important.\n",
      " |      \n",
      " |      This method is not static only to be able to display the template name\n",
      " |      in the warning.\n",
      " |  \n",
      " |  __getattr__(self, attr)\n",
      " |      Support for lazy loading.\n",
      " |  \n",
      " |  __getitem__(self, parameters)\n",
      " |      Return the class which corresponds to the given template parameters.\n",
      " |      \n",
      " |      parameters can be:\n",
      " |          - a single parameter (Ex: itk.Index[2])\n",
      " |          - a list of elements (Ex: itk.Image[itk.UC, 2])\n",
      " |  \n",
      " |  __instancecheck__(self, instance)\n",
      " |      Overloads `isinstance()` when called on an `itkTemplate` object.\n",
      " |      \n",
      " |      This function allows to compare an object to a filter without\n",
      " |      specifying the actual template arguments of the class. It will\n",
      " |      test all available template parameters that have been wrapped\n",
      " |      and return `True` if one that corresponds to the object is found.\n",
      " |  \n",
      " |  __iter__(self)\n",
      " |      # everything after this comment is for dict interface\n",
      " |      # and is a copy/paste from DictMixin\n",
      " |      # only methods to edit dictionary are not there\n",
      " |  \n",
      " |  __len__(self)\n",
      " |  \n",
      " |  __repr__(self)\n",
      " |      Return repr(self).\n",
      " |  \n",
      " |  get(self, key, default=None)\n",
      " |  \n",
      " |  items(self)\n",
      " |  \n",
      " |  iteritems(self)\n",
      " |      # third level takes advantage of second level definitions\n",
      " |  \n",
      " |  iterkeys(self)\n",
      " |  \n",
      " |  itervalues(self)\n",
      " |      # fourth level uses definitions from lower levels\n",
      " |  \n",
      " |  keys(self)\n",
      " |  \n",
      " |  values(self)\n",
      " |  \n",
      " |  ----------------------------------------------------------------------\n",
      " |  Static methods defined here:\n",
      " |  \n",
      " |  __new__(cls, name)\n",
      " |      Create and return a new object.  See help(type) for accurate signature.\n",
      " |  \n",
      " |  ----------------------------------------------------------------------\n",
      " |  Data descriptors defined here:\n",
      " |  \n",
      " |  __dict__\n",
      " |      dictionary for instance variables (if defined)\n",
      " |  \n",
      " |  __weakref__\n",
      " |      list of weak references to the object (if defined)\n",
      " |  \n",
      " |  ----------------------------------------------------------------------\n",
      " |  Data and other attributes defined here:\n",
      " |  \n",
      " |  __class_to_template__ = {<class 'pyBasePython.mapBB'>: (<itkTemplate s...\n",
      " |  \n",
      " |  __doxygen_root__ = '/home/matt/bin/venvs/CourseInBiomedicalImageAnalys...\n",
      " |  \n",
      " |  __named_templates__ = {'itk::Array': <itkTemplate itk::Array>, 'itk::A...\n",
      " |  \n",
      " |  __templates__ = OrderedDict([('std::cerr', <pyBasePython.ostream...Sou...\n",
      "\n"
     ]
    }
   ],
   "source": [
    "help(itk.Image)"
   ]
  },
  {
   "cell_type": "markdown",
   "metadata": {
    "slideshow": {
     "slide_type": "subslide"
    }
   },
   "source": [
    "* If so, you need to specify the data type\n",
    "* This is similar to `dtype` in NumPy\n",
    "\n",
    "* 因此，你需要指定数据类型\n",
    "* 和NumPy的`dtype`类似"
   ]
  },
  {
   "cell_type": "code",
   "execution_count": 12,
   "metadata": {
    "slideshow": {
     "slide_type": "fragment"
    }
   },
   "outputs": [
    {
     "data": {
      "text/plain": [
       "array([0., 0.])"
      ]
     },
     "execution_count": 12,
     "metadata": {},
     "output_type": "execute_result"
    }
   ],
   "source": [
    "import numpy\n",
    "numpy.array([0,0], dtype=numpy.float)"
   ]
  },
  {
   "cell_type": "markdown",
   "metadata": {
    "slideshow": {
     "slide_type": "subslide"
    }
   },
   "source": [
    "* Define and create a simple object\n",
    "\n",
    "* 定义和创建一个简单的对象"
   ]
  },
  {
   "cell_type": "code",
   "execution_count": 18,
   "metadata": {
    "slideshow": {
     "slide_type": "fragment"
    }
   },
   "outputs": [
    {
     "name": "stdout",
     "output_type": "stream",
     "text": [
      "itkIndex3 ([0, 0, 0])\n"
     ]
    }
   ],
   "source": [
    "# A pixel Index is templated over the image dimension\n",
    "# 首先定义类型然后创建对象\n",
    "IndexType = itk.Index[3] \n",
    "index = IndexType()\n",
    "print(index)"
   ]
  },
  {
   "cell_type": "markdown",
   "metadata": {
    "slideshow": {
     "slide_type": "fragment"
    }
   },
   "source": [
    "* Define and use smart pointer object\n",
    "\n",
    "* 定义和使用智能指针对象"
   ]
  },
  {
   "cell_type": "code",
   "execution_count": 21,
   "metadata": {
    "slideshow": {
     "slide_type": "fragment"
    }
   },
   "outputs": [
    {
     "name": "stdout",
     "output_type": "stream",
     "text": [
      "Image (0x55d831f3c0d0)\n",
      "  RTTI typeinfo:   itk::Image<float, 2u>\n",
      "  Reference Count: 1\n",
      "  Modified Time: 226\n",
      "  Debug: Off\n",
      "  Object Name: \n",
      "  Observers: \n",
      "    none\n",
      "  Source: (none)\n",
      "  Source output name: (none)\n",
      "  Release Data: Off\n",
      "  Data Released: False\n",
      "  Global Release Data: Off\n",
      "  PipelineMTime: 0\n",
      "  UpdateMTime: 0\n",
      "  RealTimeStamp: 0 seconds \n",
      "  LargestPossibleRegion: \n",
      "    Dimension: 2\n",
      "    Index: [0, 0]\n",
      "    Size: [0, 0]\n",
      "  BufferedRegion: \n",
      "    Dimension: 2\n",
      "    Index: [0, 0]\n",
      "    Size: [0, 0]\n",
      "  RequestedRegion: \n",
      "    Dimension: 2\n",
      "    Index: [0, 0]\n",
      "    Size: [0, 0]\n",
      "  Spacing: [1, 1]\n",
      "  Origin: [0, 0]\n",
      "  Direction: \n",
      "1 0\n",
      "0 1\n",
      "\n",
      "  IndexToPointMatrix: \n",
      "1 0\n",
      "0 1\n",
      "\n",
      "  PointToIndexMatrix: \n",
      "1 0\n",
      "0 1\n",
      "\n",
      "  Inverse Direction: \n",
      "1 0\n",
      "0 1\n",
      "\n",
      "  PixelContainer: \n",
      "    ImportImageContainer (0x55d8324cc2e0)\n",
      "      RTTI typeinfo:   itk::ImportImageContainer<unsigned long, float>\n",
      "      Reference Count: 1\n",
      "      Modified Time: 227\n",
      "      Debug: Off\n",
      "      Object Name: \n",
      "      Observers: \n",
      "        none\n",
      "      Pointer: 0\n",
      "      Container manages memory: true\n",
      "      Size: 0\n",
      "      Capacity: 0\n",
      "\n"
     ]
    }
   ],
   "source": [
    "ImageType = itk.Image[itk.ctype('float'), 2]\n",
    "my_image = ImageType.New()\n",
    "print(my_image)"
   ]
  },
  {
   "cell_type": "markdown",
   "metadata": {
    "slideshow": {
     "slide_type": "subslide"
    }
   },
   "source": [
    "* Print list of available types\n",
    "\n",
    "* 打印出支持的类型"
   ]
  },
  {
   "cell_type": "code",
   "execution_count": 16,
   "metadata": {
    "slideshow": {
     "slide_type": "fragment"
    }
   },
   "outputs": [
    {
     "name": "stdout",
     "output_type": "stream",
     "text": [
      "<itkTemplate itk::Image>\n",
      "Options:\n",
      "  [<itkCType bool>, 2]\n",
      "  [<itkCType bool>, 3]\n",
      "  [<itkCType double>, 2]\n",
      "  [<itkCType double>, 3]\n",
      "  [<itkCType float>, 2]\n",
      "  [<itkCType float>, 3]\n",
      "  [<itkCType signed short>, 2]\n",
      "  [<itkCType signed short>, 3]\n",
      "  [<itkCType unsigned char>, 2]\n",
      "  [<itkCType unsigned char>, 3]\n",
      "  [<itkCType unsigned long long>, 2]\n",
      "  [<itkCType unsigned long long>, 3]\n",
      "  [<itkCType unsigned long>, 2]\n",
      "  [<itkCType unsigned long>, 3]\n",
      "  [<itkCType unsigned short>, 2]\n",
      "  [<itkCType unsigned short>, 3]\n",
      "  [<class 'itkCovariantVectorPython.itkCovariantVectorD2'>, 2]\n",
      "  [<class 'itkCovariantVectorPython.itkCovariantVectorD2'>, 3]\n",
      "  [<class 'itkCovariantVectorPython.itkCovariantVectorD3'>, 2]\n",
      "  [<class 'itkCovariantVectorPython.itkCovariantVectorD3'>, 3]\n",
      "  [<class 'itkCovariantVectorPython.itkCovariantVectorD4'>, 2]\n",
      "  [<class 'itkCovariantVectorPython.itkCovariantVectorD4'>, 3]\n",
      "  [<class 'itkCovariantVectorPython.itkCovariantVectorF2'>, 2]\n",
      "  [<class 'itkCovariantVectorPython.itkCovariantVectorF2'>, 3]\n",
      "  [<class 'itkCovariantVectorPython.itkCovariantVectorF3'>, 2]\n",
      "  [<class 'itkCovariantVectorPython.itkCovariantVectorF3'>, 3]\n",
      "  [<class 'itkCovariantVectorPython.itkCovariantVectorF4'>, 2]\n",
      "  [<class 'itkCovariantVectorPython.itkCovariantVectorF4'>, 3]\n",
      "  [<class 'itkFixedArrayPython.itkFixedArrayF2'>, 2]\n",
      "  [<class 'itkFixedArrayPython.itkFixedArrayF3'>, 3]\n",
      "  [<class 'itkOffsetPython.itkOffset2'>, 2]\n",
      "  [<class 'itkOffsetPython.itkOffset3'>, 3]\n",
      "  [<class 'itkRGBAPixelPython.itkRGBAPixelUC'>, 2]\n",
      "  [<class 'itkRGBAPixelPython.itkRGBAPixelUC'>, 3]\n",
      "  [<class 'itkRGBPixelPython.itkRGBPixelUC'>, 2]\n",
      "  [<class 'itkRGBPixelPython.itkRGBPixelUC'>, 3]\n",
      "  [<class 'itkSymmetricSecondRankTensorPython.itkSymmetricSecondRankTensorD2'>, 2]\n",
      "  [<class 'itkSymmetricSecondRankTensorPython.itkSymmetricSecondRankTensorD3'>, 3]\n",
      "  [<class 'itkVectorPython.itkVectorD2'>, 2]\n",
      "  [<class 'itkVectorPython.itkVectorD2'>, 3]\n",
      "  [<class 'itkVectorPython.itkVectorD2'>, 4]\n",
      "  [<class 'itkVectorPython.itkVectorD3'>, 2]\n",
      "  [<class 'itkVectorPython.itkVectorD3'>, 3]\n",
      "  [<class 'itkVectorPython.itkVectorD3'>, 4]\n",
      "  [<class 'itkVectorPython.itkVectorD4'>, 2]\n",
      "  [<class 'itkVectorPython.itkVectorD4'>, 3]\n",
      "  [<class 'itkVectorPython.itkVectorD4'>, 4]\n",
      "  [<class 'itkVectorPython.itkVectorF1'>, 2]\n",
      "  [<class 'itkVectorPython.itkVectorF1'>, 3]\n",
      "  [<class 'itkVectorPython.itkVectorF2'>, 2]\n",
      "  [<class 'itkVectorPython.itkVectorF2'>, 3]\n",
      "  [<class 'itkVectorPython.itkVectorF3'>, 2]\n",
      "  [<class 'itkVectorPython.itkVectorF3'>, 3]\n",
      "  [<class 'itkVectorPython.itkVectorF4'>, 2]\n",
      "  [<class 'itkVectorPython.itkVectorF4'>, 3]\n",
      "  [<class 'stdcomplexPython.stdcomplexF'>, 2]\n",
      "  [<class 'stdcomplexPython.stdcomplexF'>, 3]\n"
     ]
    }
   ],
   "source": [
    "itk.Image.GetTypes()"
   ]
  },
  {
   "cell_type": "markdown",
   "metadata": {
    "slideshow": {
     "slide_type": "subslide"
    }
   },
   "source": [
    "## Non-templated Types\n",
    "\n",
    "* `MetaDataDictionary`\n",
    "\n",
    "## 非模板类型\n",
    "\n",
    "* `MetaDataDictionary`"
   ]
  },
  {
   "cell_type": "code",
   "execution_count": 19,
   "metadata": {
    "slideshow": {
     "slide_type": "fragment"
    }
   },
   "outputs": [
    {
     "name": "stdout",
     "output_type": "stream",
     "text": [
      "'new_key' value: 5\n"
     ]
    }
   ],
   "source": [
    "d = itk.MetaDataDictionary()\n",
    "d['new_key'] = 5\n",
    "print(\"'new_key' value: %d\" % d['new_key'])"
   ]
  },
  {
   "cell_type": "markdown",
   "metadata": {
    "slideshow": {
     "slide_type": "subslide"
    }
   },
   "source": [
    "## Python Sequences for of ITK Objects\n",
    "\n",
    "* Some ITK objects expect inputs of a certain ITK type. However, it is often more convenient to directly provide Python sequences, i.e. a `list` or `tuple`.\n",
    "\n",
    "## ITK对象的Python序列\n",
    "\n",
    "* 一些ITK对象期望某种ITK类型的输入。但是，通常情况下直接使用Python序列，如`list` 或 `tuple`，会更加的方便。"
   ]
  },
  {
   "cell_type": "code",
   "execution_count": 22,
   "metadata": {
    "slideshow": {
     "slide_type": "fragment"
    }
   },
   "outputs": [
    {
     "name": "stdout",
     "output_type": "stream",
     "text": [
      "Help on method itkImageBase2_SetOrigin in module _itkImagePython:\n",
      "\n",
      "itkImageBase2_SetOrigin(...) method of itkImagePython.itkImageF2 instance\n",
      "    SetOrigin(itkPointD2 _arg)\n",
      "    SetOrigin(double const * origin)\n",
      "    itkImageBase2_SetOrigin(itkImageBase2 self, float const * origin)\n",
      "    \n",
      "    Set the origin of the\n",
      "    image. The origin is the geometric coordinates of the image origin\n",
      "    (pixel [0,0]). It is stored internally as SpacePrecisionType but may\n",
      "    be set from float or double. See:   GetOrigin()\n",
      "\n"
     ]
    }
   ],
   "source": [
    "image = ImageType.New()\n",
    "help(image.SetOrigin)"
   ]
  },
  {
   "cell_type": "markdown",
   "metadata": {
    "slideshow": {
     "slide_type": "subslide"
    }
   },
   "source": [
    "* Use a Python `list` where an `itk.Index`, `itk.Point`, or `itk.Vector` is requested.\n",
    "\n",
    "* 对于`itk.Index`, `itk.Point`, 或 `itk.Vector`类型的地方可以使用Python`list`"
   ]
  },
  {
   "cell_type": "code",
   "execution_count": 23,
   "metadata": {
    "slideshow": {
     "slide_type": "fragment"
    }
   },
   "outputs": [
    {
     "name": "stdout",
     "output_type": "stream",
     "text": [
      "Image origin: itkPointD2 ([2, 10])\n",
      "Image origin: [2.0, 10.0]\n",
      "Image origin: (2.0, 10.0)\n"
     ]
    }
   ],
   "source": [
    "image.SetOrigin([2, 10])\n",
    "print(\"Image origin: %s\" % str(image.GetOrigin()))\n",
    "print(\"Image origin: %s\" % str(list(image.GetOrigin())))\n",
    "print(\"Image origin: %s\" % str(tuple(image.GetOrigin())))"
   ]
  },
  {
   "cell_type": "markdown",
   "metadata": {
    "slideshow": {
     "slide_type": "slide"
    }
   },
   "source": [
    "# scikit-learn"
   ]
  },
  {
   "cell_type": "markdown",
   "metadata": {
    "slideshow": {
     "slide_type": "subslide"
    }
   },
   "source": [
    "* *scikit-learn* is a machine learning package in Python.\n",
    "* scikit-learn is used to illustrate solving a problem using ITK and *NumPy* arrays.\n",
    "\n",
    "* *scikit-learn* 是Python的机器学习package\n",
    "* scikit-learn 用来列举说明如何使用ITK和*NumPy*输出来处理问题。"
   ]
  },
  {
   "cell_type": "code",
   "execution_count": 24,
   "metadata": {
    "slideshow": {
     "slide_type": "subslide"
    }
   },
   "outputs": [],
   "source": [
    "import sklearn"
   ]
  },
  {
   "cell_type": "markdown",
   "metadata": {
    "slideshow": {
     "slide_type": "subslide"
    }
   },
   "source": [
    "First, we load 10 2D-images of circles with different radii and center position to which noise has been added and their corresponding ground truth segmentations.\n",
    "\n",
    "首先，我们加载10幅不同半径和中心位置的圆的二维图像，在图像中加入噪声并进行相应的真值分割。"
   ]
  },
  {
   "cell_type": "code",
   "execution_count": 25,
   "metadata": {
    "slideshow": {
     "slide_type": "fragment"
    }
   },
   "outputs": [
    {
     "name": "stdout",
     "output_type": "stream",
     "text": [
      "itkSize2 ([50, 50])\n"
     ]
    },
    {
     "data": {
      "text/plain": [
       "Text(0.5, 1.0, 'Segmentation')"
      ]
     },
     "execution_count": 25,
     "metadata": {},
     "output_type": "execute_result"
    },
    {
     "data": {
      "image/png": "[encoded data removed]",
      "text/plain": [
       "<Figure size 432x288 with 2 Axes>"
      ]
     },
     "metadata": {
      "needs_background": "light"
     },
     "output_type": "display_data"
    }
   ],
   "source": [
    "l_label = []\n",
    "l_image = []\n",
    "\n",
    "for i in range(0,10):\n",
    "    image_name = 'data/sklearn/im%d.nrrd' % i\n",
    "    image = itk.imread(image_name, itk.F)\n",
    "    array = itk.array_from_image(image)\n",
    "    l_image.append(array)\n",
    "    \n",
    "    label_name = 'data/sklearn/im%d_label.nrrd' % i\n",
    "    image = itk.imread(label_name, itk.UC)\n",
    "    array = itk.array_from_image(image)\n",
    "    l_label.append(array)\n",
    "    \n",
    "size = itk.size(image)\n",
    "print(size)\n",
    "\n",
    "plt.subplot(1, 2, 1)\n",
    "plt.imshow(l_image[0])\n",
    "plt.title(\"Image\")\n",
    "\n",
    "plt.subplot(1, 2, 2)\n",
    "plt.imshow(l_label[0])\n",
    "plt.title(\"Segmentation\")"
   ]
  },
  {
   "cell_type": "markdown",
   "metadata": {
    "slideshow": {
     "slide_type": "subslide"
    }
   },
   "source": [
    "The goal is to find the segmentation based on the input image.\n",
    "\n",
    "目标是基于输入图像找到分割的对象。"
   ]
  },
  {
   "cell_type": "markdown",
   "metadata": {
    "slideshow": {
     "slide_type": "subslide"
    }
   },
   "source": [
    "We create arrays of data:\n",
    "* X - the input samples\n",
    "* Y - the target values\n",
    "\n",
    "我们创建了数据数组：\n",
    "* X - 输入样本\n",
    "* Y - 目标值"
   ]
  },
  {
   "cell_type": "code",
   "execution_count": 26,
   "metadata": {
    "slideshow": {
     "slide_type": "fragment"
    }
   },
   "outputs": [],
   "source": [
    "X0 = l_image[0].flatten()\n",
    "X = X0\n",
    "\n",
    "Y = l_label[0].flatten()\n",
    "\n",
    "for i in range(1,10):\n",
    "    X = np.concatenate((X, l_image[i].flatten()))\n",
    "    Y = np.concatenate((Y, l_label[i].flatten()))"
   ]
  },
  {
   "cell_type": "markdown",
   "metadata": {
    "slideshow": {
     "slide_type": "subslide"
    }
   },
   "source": [
    "* We use a supervised learning methods based on Bayes’ theorem.\n",
    "* The only information provided to the algorithm is the image intensity value.\n",
    "\n",
    "* 我们使用基于贝叶斯理论的监督式学习\n",
    "* 需要提供给算法的唯一输入是图像的强度值"
   ]
  },
  {
   "cell_type": "code",
   "execution_count": 27,
   "metadata": {},
   "outputs": [
    {
     "data": {
      "text/plain": [
       "((25000,), (25000,))"
      ]
     },
     "execution_count": 27,
     "metadata": {},
     "output_type": "execute_result"
    }
   ],
   "source": [
    "X.shape, Y.shape"
   ]
  },
  {
   "cell_type": "code",
   "execution_count": 28,
   "metadata": {
    "slideshow": {
     "slide_type": "fragment"
    }
   },
   "outputs": [
    {
     "data": {
      "text/plain": [
       "<matplotlib.image.AxesImage at 0x7faec0477cf8>"
      ]
     },
     "execution_count": 28,
     "metadata": {},
     "output_type": "execute_result"
    },
    {
     "data": {
      "image/png": "[encoded data removed]",
      "text/plain": [
       "<Figure size 432x288 with 1 Axes>"
      ]
     },
     "metadata": {
      "needs_background": "light"
     },
     "output_type": "display_data"
    }
   ],
   "source": [
    "from sklearn.naive_bayes import GaussianNB\n",
    "\n",
    "clf = GaussianNB()\n",
    "clf.fit(X.reshape(-1,1), Y)\n",
    "\n",
    "result = clf.predict(X0.reshape(-1,1)).reshape(size[0],size[1])\n",
    "plt.imshow(result)"
   ]
  },
  {
   "cell_type": "markdown",
   "metadata": {
    "slideshow": {
     "slide_type": "subslide"
    }
   },
   "source": [
    "To improve our segmentation, we filter the input image with a median image filter and add this information as a second sample vector.\n",
    "\n",
    "ITK is often used to read, reformat, denoise, and augment medical imaging data to improve the effectiveness of medical imaging models.\n",
    "\n",
    "为了提高我们的分割交过，使用中值滤波对输入图像进行处理。\n",
    "\n",
    "ITK通常被用来读取，重新格式化，降噪，和增强医学影像数据，来提高医学影像模型的效果。"
   ]
  },
  {
   "cell_type": "code",
   "execution_count": 29,
   "metadata": {
    "slideshow": {
     "slide_type": "fragment"
    }
   },
   "outputs": [
    {
     "data": {
      "text/plain": [
       "Text(0.5, 1.0, 'Median Filtered Image')"
      ]
     },
     "execution_count": 29,
     "metadata": {},
     "output_type": "execute_result"
    },
    {
     "data": {
      "image/png": "[encoded data removed]",
      "text/plain": [
       "<Figure size 432x288 with 1 Axes>"
      ]
     },
     "metadata": {
      "needs_background": "light"
     },
     "output_type": "display_data"
    }
   ],
   "source": [
    "l_median = []\n",
    "for i in range(0,10):\n",
    "    image_name = 'data/sklearn/im%d.nrrd' % i\n",
    "    image = itk.imread(image_name, itk.F)\n",
    "    \n",
    "    median=itk.median_image_filter(image, radius=3) # 进行中值滤波\n",
    "    \n",
    "    array = itk.array_from_image(median)\n",
    "    l_median.append(array)\n",
    "    \n",
    "plt.gray()\n",
    "plt.imshow(l_median[0])\n",
    "plt.title(\"Median Filtered Image\")"
   ]
  },
  {
   "cell_type": "code",
   "execution_count": 30,
   "metadata": {
    "slideshow": {
     "slide_type": "fragment"
    }
   },
   "outputs": [],
   "source": [
    "M0 = l_median[0].flatten()\n",
    "M = M0\n",
    "X0 = np.concatenate((X0.reshape(-1,1),M0.reshape(-1,1)), axis=1)\n",
    "for i in range(1,10):\n",
    "    M = np.concatenate((M, l_median[i].flatten()))\n",
    "\n",
    "X = np.concatenate((X.reshape(-1,1),M.reshape(-1,1)), axis=1)"
   ]
  },
  {
   "cell_type": "code",
   "execution_count": 31,
   "metadata": {
    "slideshow": {
     "slide_type": "subslide"
    }
   },
   "outputs": [
    {
     "data": {
      "text/plain": [
       "<matplotlib.image.AxesImage at 0x7faec0426780>"
      ]
     },
     "execution_count": 31,
     "metadata": {},
     "output_type": "execute_result"
    },
    {
     "data": {
      "image/png": "[encoded data removed]",
      "text/plain": [
       "<Figure size 432x288 with 1 Axes>"
      ]
     },
     "metadata": {
      "needs_background": "light"
     },
     "output_type": "display_data"
    }
   ],
   "source": [
    "clf.fit(X, Y)\n",
    "result = clf.predict(X0).reshape(50,50)\n",
    "plt.imshow(result)"
   ]
  },
  {
   "cell_type": "markdown",
   "metadata": {
    "slideshow": {
     "slide_type": "slide"
    }
   },
   "source": [
    "## Typical processing\n",
    "\n",
    "* Resampling for consistent pixel grid size and spacing\n",
    "* Image preprocessing\n",
    "    * Bias field correction, e.g. `n4_bias_field_correction_image_filter`\n",
    "    * Noise reduction, e.g. `smoothing_recursive_gaussian_image_filter`\n",
    "    * Feature computation, e.g. texture, wavelet, or edge detector\n",
    "* Converting ITK data to NumPy and organize the data as needed\n",
    "* Train classifier\n",
    "* Use classifier on new data\n",
    "* Convert classifier result to ITK data\n",
    "* Apply post processing filters\n",
    "    * Fill holes, e.g. `binary_fillhole_image_filter`\n",
    "    * Smoothing, e.g. `median_image_filter`\n",
    "    \n",
    "## 典型处理\n",
    "\n",
    "* 重新采样以获得一致的像素网格大小和间距\n",
    "* 图像预处理\n",
    "    * 偏置场校正，如，`n4_bias_field_correction_image_filter`\n",
    "    * 降噪，如，`smoothing_recursive_gaussian_image_filter`\n",
    "    * 特征计算，如，texture, wavelet, 或 edge detector\n",
    "* 将ITK数据转换成NumPy，按需求管理这些数据\n",
    "* 训练分类器\n",
    "* 将分类器用到新的数据\n",
    "* 将分类结果转换成ITK数据\n",
    "* 应用后处理\n",
    "    * 补洞，如，`binary_fillhole_image_filter`\n",
    "    * 平滑，如，`median_image_filter`"
   ]
  },
  {
   "cell_type": "markdown",
   "metadata": {
    "slideshow": {
     "slide_type": "subslide"
    }
   },
   "source": [
    "## Two ways of using ITK in Python\n",
    "\n",
    "* Functional programming API\n",
    " * *Pythonic*\n",
    " * Eager execution\n",
    " * More concise\n",
    " * A few functions and filters are not available\n",
    "* Object-oriented way\n",
    " * Set up processing pipelines\n",
    " * Delayed execution\n",
    " * Full access to ITK\n",
    " * Conserve memory\n",
    "   * Optimally re-use and release pixel buffer memory\n",
    "   * Stream process pipelines in chunks\n",
    "   \n",
    "## 在python中使用ITK的两种方式\n",
    "\n",
    "* 函数式编程API\n",
    " * *Pythonic*\n",
    " * 可以马上执行\n",
    " * 更简洁\n",
    " * 一些函数和过滤器不可用\n",
    "* 面向对象的方式\n",
    " * 设置处理管线\n",
    " * 延迟执行\n",
    " * 对ITK全访问\n",
    " * 保存内存\n",
    "   * 最佳重复使用和释放像素缓冲存储器\n",
    "   * 成块的流程管道"
   ]
  },
  {
   "cell_type": "markdown",
   "metadata": {
    "slideshow": {
     "slide_type": "slide"
    }
   },
   "source": [
    "## Let's start with the Pythonic way\n",
    "\n",
    "## 让我们开始以Pythonic的方式"
   ]
  },
  {
   "cell_type": "code",
   "execution_count": 32,
   "metadata": {
    "slideshow": {
     "slide_type": "fragment"
    }
   },
   "outputs": [],
   "source": [
    "image = itk.imread(\"data/CBCT-TextureInput.png\", itk.ctype('float'))"
   ]
  },
  {
   "cell_type": "code",
   "execution_count": 33,
   "metadata": {
    "slideshow": {
     "slide_type": "fragment"
    }
   },
   "outputs": [],
   "source": [
    "filtered_image = itk.median_image_filter(image, radius = 3)"
   ]
  },
  {
   "cell_type": "code",
   "execution_count": 34,
   "metadata": {
    "scrolled": true,
    "slideshow": {
     "slide_type": "fragment"
    }
   },
   "outputs": [
    {
     "data": {
      "application/vnd.jupyter.widget-view+json": {
       "model_id": "23e58396f67b498db5abfe2c967e8544",
       "version_major": 2,
       "version_minor": 0
      },
      "text/plain": [
       "Viewer(geometries=[], gradient_opacity=0.22, point_sets=[], rendered_image=<itkImagePython.itkImageF2; proxy o…"
      ]
     },
     "metadata": {},
     "output_type": "display_data"
    }
   ],
   "source": [
    "view(filtered_image, ui_collapsed=True)"
   ]
  },
  {
   "cell_type": "markdown",
   "metadata": {
    "slideshow": {
     "slide_type": "subslide"
    }
   },
   "source": [
    "### Pythonic exercises\n",
    "\n",
    "* In the example above, change the radius of the filter and observe the result.\n",
    "* Replace filter with `mean_image_filter`\n",
    "* Replace filter with `otsu_threshold_image_filter`\n",
    "* Visualize results\n",
    "\n",
    "### Pythonic的练习\n",
    "\n",
    "* 在上面的例子中，改变滤过的半径观察结果\n",
    "* 使用`mean_image_filter`\n",
    "* 使用`otsu_threshold_image_filter`\n",
    "* 显示结果"
   ]
  },
  {
   "cell_type": "markdown",
   "metadata": {
    "slideshow": {
     "slide_type": "subslide"
    }
   },
   "source": [
    "Uncomment and change the radius of the filter and observe the result."
   ]
  },
  {
   "cell_type": "code",
   "execution_count": 37,
   "metadata": {
    "slideshow": {
     "slide_type": "-"
    }
   },
   "outputs": [
    {
     "data": {
      "application/vnd.jupyter.widget-view+json": {
       "model_id": "e310b7bc7df941b29ec66a2f6eda0ad9",
       "version_major": 2,
       "version_minor": 0
      },
      "text/plain": [
       "Viewer(geometries=[], gradient_opacity=0.22, point_sets=[], rendered_image=<itkImagePython.itkImageF2; proxy o…"
      ]
     },
     "metadata": {},
     "output_type": "display_data"
    }
   ],
   "source": [
    "median_filtered_image = itk.median_image_filter(image, radius = 20)\n",
    "view(median_filtered_image)"
   ]
  },
  {
   "cell_type": "code",
   "execution_count": 35,
   "metadata": {
    "slideshow": {
     "slide_type": "-"
    }
   },
   "outputs": [],
   "source": [
    "# %load solutions/2_Using_ITK_in_Python_real_world_filters_median.py"
   ]
  },
  {
   "cell_type": "markdown",
   "metadata": {
    "slideshow": {
     "slide_type": "subslide"
    }
   },
   "source": [
    "Uncomment and replace filter with `mean_image_filter`"
   ]
  },
  {
   "cell_type": "code",
   "execution_count": 39,
   "metadata": {
    "slideshow": {
     "slide_type": "-"
    }
   },
   "outputs": [
    {
     "data": {
      "application/vnd.jupyter.widget-view+json": {
       "model_id": "cc52976e29eb41009559389eca2306e6",
       "version_major": 2,
       "version_minor": 0
      },
      "text/plain": [
       "Viewer(geometries=[], gradient_opacity=0.22, point_sets=[], rendered_image=<itkImagePython.itkImageF2; proxy o…"
      ]
     },
     "metadata": {},
     "output_type": "display_data"
    }
   ],
   "source": [
    "mean_filtered_image = itk.mean_image_filter(image, radius = 5)\n",
    "view(mean_filtered_image)"
   ]
  },
  {
   "cell_type": "code",
   "execution_count": 39,
   "metadata": {
    "slideshow": {
     "slide_type": "-"
    }
   },
   "outputs": [],
   "source": [
    "# %load solutions/2_Using_ITK_in_Python_real_world_filters_mean.py"
   ]
  },
  {
   "cell_type": "markdown",
   "metadata": {
    "slideshow": {
     "slide_type": "subslide"
    }
   },
   "source": [
    "Uncomment and replace filter with `otsu_threshold_image_filter`"
   ]
  },
  {
   "cell_type": "code",
   "execution_count": 40,
   "metadata": {
    "slideshow": {
     "slide_type": "-"
    }
   },
   "outputs": [
    {
     "data": {
      "application/vnd.jupyter.widget-view+json": {
       "model_id": "13a61e42d31941f197b59becff104ff4",
       "version_major": 2,
       "version_minor": 0
      },
      "text/plain": [
       "Viewer(geometries=[], gradient_opacity=0.22, point_sets=[], rendered_image=<itkImagePython.itkImageSS2; proxy …"
      ]
     },
     "metadata": {},
     "output_type": "display_data"
    }
   ],
   "source": [
    "otsu_filtered_image = itk.otsu_threshold_image_filter(image)\n",
    "view(otsu_filtered_image)"
   ]
  },
  {
   "cell_type": "code",
   "execution_count": 45,
   "metadata": {
    "slideshow": {
     "slide_type": "-"
    }
   },
   "outputs": [],
   "source": [
    "# %load solutions/2_Using_ITK_in_Python_real_world_filters_otsu.py"
   ]
  },
  {
   "cell_type": "markdown",
   "metadata": {
    "slideshow": {
     "slide_type": "slide"
    }
   },
   "source": [
    "## Object-oriented\n",
    "\n",
    "* Two types of C++ ITK objects\n",
    " * Smart pointers (hint: most ITK objects are smart pointers)\n",
    " * \"Simple\" objects\n",
    "* Translates in two ways of creating objects in Python\n",
    " * `obj = itk.SmartPointerObjectType.New()` (use auto-completion to see if `New()` method exists)\n",
    " * `obj = itk.SimpleObjectType()`\n",
    " \n",
    "## 面向对象的方式\n",
    "\n",
    "* C++ ITK对象的两种类型\n",
    " * 智能指针（hint：大多数ITK对象都是智能指针）\n",
    " * “简单的”对象\n",
    "* 在Python中以两种方式创建对象\n",
    " * `obj = itk.SmartPointerObjectType.New()`（使用自动补全，来看是否存在New函数）\n",
    " * `obj = itk.SimpleObjectType()`"
   ]
  },
  {
   "cell_type": "markdown",
   "metadata": {
    "slideshow": {
     "slide_type": "fragment"
    }
   },
   "source": [
    "## Examples of objects\n",
    "\n",
    "* With `New()` method:\n",
    " * `itk.Image`\n",
    " * `itk.MedianImageFilter`\n",
    "* Without `New()` method:\n",
    " * `itk.Index`\n",
    " * `itk.RGBPixel`\n",
    "\n",
    "## 对象的例子\n",
    "\n",
    "* 使用 `New()` 方法:\n",
    " * `itk.Image`\n",
    " * `itk.MedianImageFilter`\n",
    "* 不使用 `New()` 方法:\n",
    " * `itk.Index`\n",
    " * `itk.RGBPixel`"
   ]
  },
  {
   "cell_type": "markdown",
   "metadata": {
    "slideshow": {
     "slide_type": "slide"
    }
   },
   "source": [
    "## Filters with object-oriented syntax\n",
    "\n",
    "## 基于面向对象格式的滤波"
   ]
  },
  {
   "cell_type": "code",
   "execution_count": 41,
   "metadata": {
    "slideshow": {
     "slide_type": "fragment"
    }
   },
   "outputs": [
    {
     "data": {
      "application/vnd.jupyter.widget-view+json": {
       "model_id": "c4f97575828844a9850c76d02cf96881",
       "version_major": 2,
       "version_minor": 0
      },
      "text/plain": [
       "Viewer(geometries=[], gradient_opacity=0.22, point_sets=[], rendered_image=<itkImagePython.itkImageF2; proxy o…"
      ]
     },
     "metadata": {},
     "output_type": "display_data"
    }
   ],
   "source": [
    "PixelType = itk.ctype('float')\n",
    "image = itk.imread(\"data/CBCT-TextureInput.png\", PixelType)\n",
    "\n",
    "ImageType = itk.Image[PixelType, 2]\n",
    "median_filter = itk.MedianImageFilter[ImageType, ImageType].New()\n",
    "median_filter.SetInput(image)\n",
    "median_filter.SetRadius(4)\n",
    "median_filter.Update()\n",
    "view(median_filter.GetOutput(), ui_collapsed=True)"
   ]
  },
  {
   "cell_type": "markdown",
   "metadata": {
    "slideshow": {
     "slide_type": "subslide"
    }
   },
   "source": [
    "### Object-oriented exercises\n",
    "\n",
    "* In the example above, change the radius of the filter and observe the result.\n",
    "* Replace filter with `MeanImageFilter`\n",
    "* Replace filter with `OtsuThresholdImageFilter`\n",
    "* Visualize results\n",
    "\n",
    "### 面向对象的练习\n",
    "\n",
    "* 在上面的例子中，改变radius，观察结果\n",
    "* 使用`MeanImageFilter`\n",
    "* 使用 `OtsuThresholdImageFilter`\n",
    "* 观察结果"
   ]
  },
  {
   "cell_type": "markdown",
   "metadata": {
    "slideshow": {
     "slide_type": "subslide"
    }
   },
   "source": [
    "Uncomment and change the radius of the filter and observe the result."
   ]
  },
  {
   "cell_type": "code",
   "execution_count": 42,
   "metadata": {
    "slideshow": {
     "slide_type": "-"
    }
   },
   "outputs": [
    {
     "data": {
      "application/vnd.jupyter.widget-view+json": {
       "model_id": "81581647e82e43fc9f957c938dbe1b61",
       "version_major": 2,
       "version_minor": 0
      },
      "text/plain": [
       "Viewer(geometries=[], gradient_opacity=0.22, point_sets=[], rendered_image=<itkImagePython.itkImageF2; proxy o…"
      ]
     },
     "metadata": {},
     "output_type": "display_data"
    }
   ],
   "source": [
    "median_filter = itk.MedianImageFilter[ImageType, ImageType].New()\n",
    "median_filter.SetInput(image)\n",
    "median_filter.SetRadius(20)\n",
    "median_filter.Update()\n",
    "median_filtered_image = median_filter.GetOutput()\n",
    "view(median_filtered_image)"
   ]
  },
  {
   "cell_type": "code",
   "execution_count": 50,
   "metadata": {
    "slideshow": {
     "slide_type": "-"
    }
   },
   "outputs": [],
   "source": [
    "# %load solutions/2_Using_ITK_in_Python_real_world_filters_MedianFilter.py"
   ]
  },
  {
   "cell_type": "markdown",
   "metadata": {
    "slideshow": {
     "slide_type": "subslide"
    }
   },
   "source": [
    "Uncomment and edit to use `MeanImageFilter`"
   ]
  },
  {
   "cell_type": "code",
   "execution_count": 43,
   "metadata": {
    "slideshow": {
     "slide_type": "-"
    }
   },
   "outputs": [
    {
     "data": {
      "application/vnd.jupyter.widget-view+json": {
       "model_id": "04721d55f40042a9a297ab5b393a8145",
       "version_major": 2,
       "version_minor": 0
      },
      "text/plain": [
       "Viewer(geometries=[], gradient_opacity=0.22, point_sets=[], rendered_image=<itkImagePython.itkImageF2; proxy o…"
      ]
     },
     "metadata": {},
     "output_type": "display_data"
    }
   ],
   "source": [
    "mean_filter = itk.MeanImageFilter[ImageType, ImageType].New()\n",
    "mean_filter.SetInput(image)\n",
    "mean_filter.SetRadius(22)\n",
    "mean_filter.Update()\n",
    "mean_filtered_image = mean_filter.GetOutput()\n",
    "view(mean_filtered_image)"
   ]
  },
  {
   "cell_type": "code",
   "execution_count": 54,
   "metadata": {
    "slideshow": {
     "slide_type": "-"
    }
   },
   "outputs": [],
   "source": [
    "# %load solutions/2_Using_ITK_in_Python_real_world_filters_MeanFilter.py"
   ]
  },
  {
   "cell_type": "markdown",
   "metadata": {
    "slideshow": {
     "slide_type": "subslide"
    }
   },
   "source": [
    "Uncomment and replace filter with `OtsuThresholdImageFilter`"
   ]
  },
  {
   "cell_type": "code",
   "execution_count": 46,
   "metadata": {
    "slideshow": {
     "slide_type": "-"
    }
   },
   "outputs": [
    {
     "data": {
      "application/vnd.jupyter.widget-view+json": {
       "model_id": "1a2b0482c6b6462083b316f0bb6fe940",
       "version_major": 2,
       "version_minor": 0
      },
      "text/plain": [
       "Viewer(geometries=[], gradient_opacity=0.22, point_sets=[], rendered_image=<itkImagePython.itkImageSS2; proxy …"
      ]
     },
     "metadata": {},
     "output_type": "display_data"
    }
   ],
   "source": [
    "InputImageType = itk.Image[itk.ctype('float'), 2]\n",
    "OutputImageType = itk.Image[itk.ctype('short'), 2]\n",
    "\n",
    "otsu_filter = itk.OtsuThresholdImageFilter[InputImageType, OutputImageType].New()\n",
    "otsu_filter.SetInput(image)\n",
    "otsu_filter.Update()\n",
    "view(otsu_filter.GetOutput(),ui_collapsed=True)"
   ]
  },
  {
   "cell_type": "code",
   "execution_count": 56,
   "metadata": {
    "slideshow": {
     "slide_type": "-"
    }
   },
   "outputs": [
    {
     "data": {
      "application/vnd.jupyter.widget-view+json": {
       "model_id": "829c493d2747449092c853362c5a4bb4",
       "version_major": 2,
       "version_minor": 0
      },
      "text/plain": [
       "Viewer(geometries=[], gradient_opacity=0.22, point_sets=[], rendered_image=<itkImagePython.itkImageSS2; proxy …"
      ]
     },
     "metadata": {},
     "output_type": "display_data"
    }
   ],
   "source": [
    "# %load solutions/2_Using_ITK_in_Python_real_world_filters_OtsuFilter.py"
   ]
  },
  {
   "cell_type": "markdown",
   "metadata": {
    "slideshow": {
     "slide_type": "subslide"
    }
   },
   "source": [
    "## ITK Object-oriented Summary\n",
    "* Has `New()` method?\n",
    "  * Call `Update()` with filters!\n",
    "  \n",
    "## ITK面向对象总结\n",
    "* 是否有`New()`方法\n",
    "* 调用滤波器的`Update()`"
   ]
  },
  {
   "cell_type": "markdown",
   "metadata": {
    "slideshow": {
     "slide_type": "slide"
    }
   },
   "source": [
    "## Supported Image Types\n",
    "\n",
    "## 支持的图像类型"
   ]
  },
  {
   "cell_type": "markdown",
   "metadata": {
    "slideshow": {
     "slide_type": "subslide"
    }
   },
   "source": [
    "### Unsupported (image) types\n",
    "\n",
    "ITK filters have compile-time performance optimized for a specific image types and dimensions.\n",
    "\n",
    "When an attempt is made to use a filter with an image type that is not supported, a error will occur like:\n",
    "\n",
    "### 不支持的图像类型\n",
    "\n",
    "ITK过滤器具有针对特定图像类型和尺寸优化的编译时性能。\n",
    "\n",
    "当尝试处理不支持的图像类型的时候会报错："
   ]
  },
  {
   "cell_type": "markdown",
   "metadata": {
    "slideshow": {
     "slide_type": "fragment"
    }
   },
   "source": [
    "`KeyError: \"itkTemplate : No template [<class 'itkImagePython.itkImageD2'>] for the itk::ImageFileReader class\"`"
   ]
  },
  {
   "cell_type": "code",
   "execution_count": 47,
   "metadata": {
    "slideshow": {
     "slide_type": "fragment"
    }
   },
   "outputs": [
    {
     "ename": "TemplateTypeError",
     "evalue": "itk.ImageFileReader is not wrapped for input type `itk.Image[itk.D,2]`.\n\nTo limit the size of the package, only a limited number of\ntypes are available in ITK Python. To print the supported\ntypes, run the following command in your python environment:\n\n    itk.ImageFileReader.GetTypes()\n\nPossible solutions:\n* If you are an application user:\n** Convert your input image into a supported format (see below).\n** Contact developer to report the issue.\n* If you are an application developer, force input images to be\nloaded in a supported pixel type.\n\n    e.g.: instance = itk.ImageFileReader[itk.Image[itk.UC,2]].New(my_input)\n\nor\n\n    e.g.: image = itk.imread(my_input_filename, itk.F)\n\n\n* (Advanced) If you are an application developer, build ITK Python yourself and\nturned to `ON` the corresponding CMake option to wrap the pixel type or image\ndimension you need. When configuring ITK with CMake, you can set\n`ITK_WRAP_${type}` (replace ${type} with appropriate pixel type such as\n`double`). If you need to support images with 4 or 5 dimensions, you can add\nthese dimensions to the list of dimensions in the CMake variable\n`ITK_WRAP_IMAGE_DIMS`.\n\nSupported input types:\n\nitk.Image[itk.UC,2]\nitk.Image[itk.UC,3]\nitk.Image[itk.RGBPixel[itk.UC],2]\nitk.Image[itk.RGBPixel[itk.UC],3]\nitk.Image[itk.RGBAPixel[itk.UC],2]\nitk.Image[itk.RGBAPixel[itk.UC],3]\nitk.Image[itk.Vector[itk.F,2],2]\nitk.Image[itk.Vector[itk.F,2],3]\nitk.Image[itk.Vector[itk.F,3],2]\nitk.Image[itk.Vector[itk.F,3],3]\nitk.Image[itk.Vector[itk.F,4],2]\nitk.Image[itk.Vector[itk.F,4],3]\nitk.Image[itk.CovariantVector[itk.F,2],2]\nitk.Image[itk.CovariantVector[itk.F,2],3]\nitk.Image[itk.CovariantVector[itk.F,3],2]\nitk.Image[itk.CovariantVector[itk.F,3],3]\nitk.Image[itk.CovariantVector[itk.F,4],2]\nitk.Image[itk.CovariantVector[itk.F,4],3]\nitk.Image[itk.SS,2]\nitk.Image[itk.SS,3]\nitk.Image[itk.US,2]\nitk.Image[itk.US,3]\nitk.Image[itk.F,2]\nitk.Image[itk.F,3]\nitk.Image[itk.complex[itk.F],2]\nitk.Image[itk.complex[itk.F],3]\nitk.VectorImage[itk.SS,2]\nitk.VectorImage[itk.UC,2]\nitk.VectorImage[itk.US,2]\nitk.VectorImage[itk.F,2]\nitk.VectorImage[itk.SS,3]\nitk.VectorImage[itk.UC,3]\nitk.VectorImage[itk.US,3]\nitk.VectorImage[itk.F,3]\nitk.Image[itk.Vector[itk.F,8],2]\nitk.Image[itk.Vector[itk.F,8],3]\nitk.Image[itk.Vector[itk.F,10],2]\nitk.Image[itk.Vector[itk.F,10],3]\n",
     "output_type": "error",
     "traceback": [
      "\u001b[0;31m---------------------------------------------------------------------------\u001b[0m",
      "\u001b[0;31mKeyError\u001b[0m                                  Traceback (most recent call last)",
      "\u001b[0;32m/opt/conda/lib/python3.7/site-packages/itkTemplate.py\u001b[0m in \u001b[0;36m__getitem__\u001b[0;34m(self, parameters)\u001b[0m\n\u001b[1;32m    333\u001b[0m         \u001b[0;32mtry\u001b[0m\u001b[0;34m:\u001b[0m\u001b[0;34m\u001b[0m\u001b[0;34m\u001b[0m\u001b[0m\n\u001b[0;32m--> 334\u001b[0;31m             \u001b[0;32mreturn\u001b[0m\u001b[0;34m(\u001b[0m\u001b[0mself\u001b[0m\u001b[0;34m.\u001b[0m\u001b[0m__template__\u001b[0m\u001b[0;34m[\u001b[0m\u001b[0mtuple\u001b[0m\u001b[0;34m(\u001b[0m\u001b[0mcleanParameters\u001b[0m\u001b[0;34m)\u001b[0m\u001b[0;34m]\u001b[0m\u001b[0;34m)\u001b[0m\u001b[0;34m\u001b[0m\u001b[0;34m\u001b[0m\u001b[0m\n\u001b[0m\u001b[1;32m    335\u001b[0m         \u001b[0;32mexcept\u001b[0m\u001b[0;34m:\u001b[0m\u001b[0;34m\u001b[0m\u001b[0;34m\u001b[0m\u001b[0m\n",
      "\u001b[0;31mKeyError\u001b[0m: (<class 'itkImagePython.itkImageD2'>,)",
      "\nDuring handling of the above exception, another exception occurred:\n",
      "\u001b[0;31mKeyError\u001b[0m                                  Traceback (most recent call last)",
      "\u001b[0;32m/opt/conda/lib/python3.7/site-packages/itkTemplate.py\u001b[0m in \u001b[0;36m__getitem__\u001b[0;34m(self, parameters)\u001b[0m\n\u001b[1;32m    337\u001b[0m             \u001b[0;32mtry\u001b[0m\u001b[0;34m:\u001b[0m\u001b[0;34m\u001b[0m\u001b[0;34m\u001b[0m\u001b[0m\n\u001b[0;32m--> 338\u001b[0;31m                 \u001b[0;32mreturn\u001b[0m\u001b[0;34m(\u001b[0m\u001b[0mself\u001b[0m\u001b[0;34m.\u001b[0m\u001b[0m__template__\u001b[0m\u001b[0;34m[\u001b[0m\u001b[0mtuple\u001b[0m\u001b[0;34m(\u001b[0m\u001b[0mcleanParameters\u001b[0m\u001b[0;34m)\u001b[0m\u001b[0;34m]\u001b[0m\u001b[0;34m)\u001b[0m\u001b[0;34m\u001b[0m\u001b[0;34m\u001b[0m\u001b[0m\n\u001b[0m\u001b[1;32m    339\u001b[0m             \u001b[0;32mexcept\u001b[0m\u001b[0;34m:\u001b[0m\u001b[0;34m\u001b[0m\u001b[0;34m\u001b[0m\u001b[0m\n",
      "\u001b[0;31mKeyError\u001b[0m: (<class 'itkImagePython.itkImageD2'>,)",
      "\nDuring handling of the above exception, another exception occurred:\n",
      "\u001b[0;31mTemplateTypeError\u001b[0m                         Traceback (most recent call last)",
      "\u001b[0;32m<ipython-input-47-b21e62e63f74>\u001b[0m in \u001b[0;36m<module>\u001b[0;34m\u001b[0m\n\u001b[0;32m----> 1\u001b[0;31m \u001b[0mimage\u001b[0m \u001b[0;34m=\u001b[0m \u001b[0mitk\u001b[0m\u001b[0;34m.\u001b[0m\u001b[0mimread\u001b[0m\u001b[0;34m(\u001b[0m\u001b[0;34m\"data/BrainProtonDensitySlice.png\"\u001b[0m\u001b[0;34m,\u001b[0m \u001b[0mitk\u001b[0m\u001b[0;34m.\u001b[0m\u001b[0mD\u001b[0m\u001b[0;34m)\u001b[0m\u001b[0;34m\u001b[0m\u001b[0;34m\u001b[0m\u001b[0m\n\u001b[0m\u001b[1;32m      2\u001b[0m \u001b[0mprint\u001b[0m\u001b[0;34m(\u001b[0m\u001b[0mimage\u001b[0m\u001b[0;34m)\u001b[0m\u001b[0;34m\u001b[0m\u001b[0;34m\u001b[0m\u001b[0m\n",
      "\u001b[0;32m/opt/conda/lib/python3.7/site-packages/itkExtras.py\u001b[0m in \u001b[0;36mimread\u001b[0;34m(filename, pixel_type, fallback_only)\u001b[0m\n\u001b[1;32m    568\u001b[0m             \u001b[0mdimension\u001b[0m \u001b[0;34m+=\u001b[0m \u001b[0;36m1\u001b[0m\u001b[0;34m\u001b[0m\u001b[0;34m\u001b[0m\u001b[0m\n\u001b[1;32m    569\u001b[0m         \u001b[0mImageType\u001b[0m\u001b[0;34m=\u001b[0m\u001b[0mitk\u001b[0m\u001b[0;34m.\u001b[0m\u001b[0mImage\u001b[0m\u001b[0;34m[\u001b[0m\u001b[0mpixel_type\u001b[0m\u001b[0;34m,\u001b[0m\u001b[0mdimension\u001b[0m\u001b[0;34m]\u001b[0m\u001b[0;34m\u001b[0m\u001b[0;34m\u001b[0m\u001b[0m\n\u001b[0;32m--> 570\u001b[0;31m         \u001b[0mreader\u001b[0m \u001b[0;34m=\u001b[0m \u001b[0mTemplateReaderType\u001b[0m\u001b[0;34m[\u001b[0m\u001b[0mImageType\u001b[0m\u001b[0;34m]\u001b[0m\u001b[0;34m.\u001b[0m\u001b[0mNew\u001b[0m\u001b[0;34m(\u001b[0m\u001b[0;34m**\u001b[0m\u001b[0mkwargs\u001b[0m\u001b[0;34m)\u001b[0m\u001b[0;34m\u001b[0m\u001b[0;34m\u001b[0m\u001b[0m\n\u001b[0m\u001b[1;32m    571\u001b[0m     \u001b[0;32melse\u001b[0m\u001b[0;34m:\u001b[0m\u001b[0;34m\u001b[0m\u001b[0;34m\u001b[0m\u001b[0m\n\u001b[1;32m    572\u001b[0m         \u001b[0mreader\u001b[0m \u001b[0;34m=\u001b[0m \u001b[0mTemplateReaderType\u001b[0m\u001b[0;34m.\u001b[0m\u001b[0mNew\u001b[0m\u001b[0;34m(\u001b[0m\u001b[0;34m**\u001b[0m\u001b[0mkwargs\u001b[0m\u001b[0;34m)\u001b[0m\u001b[0;34m\u001b[0m\u001b[0;34m\u001b[0m\u001b[0m\n",
      "\u001b[0;32m/opt/conda/lib/python3.7/site-packages/itkTemplate.py\u001b[0m in \u001b[0;36m__getitem__\u001b[0;34m(self, parameters)\u001b[0m\n\u001b[1;32m    338\u001b[0m                 \u001b[0;32mreturn\u001b[0m\u001b[0;34m(\u001b[0m\u001b[0mself\u001b[0m\u001b[0;34m.\u001b[0m\u001b[0m__template__\u001b[0m\u001b[0;34m[\u001b[0m\u001b[0mtuple\u001b[0m\u001b[0;34m(\u001b[0m\u001b[0mcleanParameters\u001b[0m\u001b[0;34m)\u001b[0m\u001b[0;34m]\u001b[0m\u001b[0;34m)\u001b[0m\u001b[0;34m\u001b[0m\u001b[0;34m\u001b[0m\u001b[0m\n\u001b[1;32m    339\u001b[0m             \u001b[0;32mexcept\u001b[0m\u001b[0;34m:\u001b[0m\u001b[0;34m\u001b[0m\u001b[0;34m\u001b[0m\u001b[0m\n\u001b[0;32m--> 340\u001b[0;31m                 \u001b[0;32mraise\u001b[0m \u001b[0mTemplateTypeError\u001b[0m\u001b[0;34m(\u001b[0m\u001b[0mself\u001b[0m\u001b[0;34m,\u001b[0m \u001b[0mtuple\u001b[0m\u001b[0;34m(\u001b[0m\u001b[0mcleanParameters\u001b[0m\u001b[0;34m)\u001b[0m\u001b[0;34m)\u001b[0m\u001b[0;34m\u001b[0m\u001b[0;34m\u001b[0m\u001b[0m\n\u001b[0m\u001b[1;32m    341\u001b[0m \u001b[0;34m\u001b[0m\u001b[0m\n\u001b[1;32m    342\u001b[0m     \u001b[0;32mdef\u001b[0m \u001b[0m__repr__\u001b[0m\u001b[0;34m(\u001b[0m\u001b[0mself\u001b[0m\u001b[0;34m)\u001b[0m\u001b[0;34m:\u001b[0m\u001b[0;34m\u001b[0m\u001b[0;34m\u001b[0m\u001b[0m\n",
      "\u001b[0;31mTemplateTypeError\u001b[0m: itk.ImageFileReader is not wrapped for input type `itk.Image[itk.D,2]`.\n\nTo limit the size of the package, only a limited number of\ntypes are available in ITK Python. To print the supported\ntypes, run the following command in your python environment:\n\n    itk.ImageFileReader.GetTypes()\n\nPossible solutions:\n* If you are an application user:\n** Convert your input image into a supported format (see below).\n** Contact developer to report the issue.\n* If you are an application developer, force input images to be\nloaded in a supported pixel type.\n\n    e.g.: instance = itk.ImageFileReader[itk.Image[itk.UC,2]].New(my_input)\n\nor\n\n    e.g.: image = itk.imread(my_input_filename, itk.F)\n\n\n* (Advanced) If you are an application developer, build ITK Python yourself and\nturned to `ON` the corresponding CMake option to wrap the pixel type or image\ndimension you need. When configuring ITK with CMake, you can set\n`ITK_WRAP_${type}` (replace ${type} with appropriate pixel type such as\n`double`). If you need to support images with 4 or 5 dimensions, you can add\nthese dimensions to the list of dimensions in the CMake variable\n`ITK_WRAP_IMAGE_DIMS`.\n\nSupported input types:\n\nitk.Image[itk.UC,2]\nitk.Image[itk.UC,3]\nitk.Image[itk.RGBPixel[itk.UC],2]\nitk.Image[itk.RGBPixel[itk.UC],3]\nitk.Image[itk.RGBAPixel[itk.UC],2]\nitk.Image[itk.RGBAPixel[itk.UC],3]\nitk.Image[itk.Vector[itk.F,2],2]\nitk.Image[itk.Vector[itk.F,2],3]\nitk.Image[itk.Vector[itk.F,3],2]\nitk.Image[itk.Vector[itk.F,3],3]\nitk.Image[itk.Vector[itk.F,4],2]\nitk.Image[itk.Vector[itk.F,4],3]\nitk.Image[itk.CovariantVector[itk.F,2],2]\nitk.Image[itk.CovariantVector[itk.F,2],3]\nitk.Image[itk.CovariantVector[itk.F,3],2]\nitk.Image[itk.CovariantVector[itk.F,3],3]\nitk.Image[itk.CovariantVector[itk.F,4],2]\nitk.Image[itk.CovariantVector[itk.F,4],3]\nitk.Image[itk.SS,2]\nitk.Image[itk.SS,3]\nitk.Image[itk.US,2]\nitk.Image[itk.US,3]\nitk.Image[itk.F,2]\nitk.Image[itk.F,3]\nitk.Image[itk.complex[itk.F],2]\nitk.Image[itk.complex[itk.F],3]\nitk.VectorImage[itk.SS,2]\nitk.VectorImage[itk.UC,2]\nitk.VectorImage[itk.US,2]\nitk.VectorImage[itk.F,2]\nitk.VectorImage[itk.SS,3]\nitk.VectorImage[itk.UC,3]\nitk.VectorImage[itk.US,3]\nitk.VectorImage[itk.F,3]\nitk.Image[itk.Vector[itk.F,8],2]\nitk.Image[itk.Vector[itk.F,8],3]\nitk.Image[itk.Vector[itk.F,10],2]\nitk.Image[itk.Vector[itk.F,10],3]\n"
     ]
    }
   ],
   "source": [
    "image = itk.imread(\"data/BrainProtonDensitySlice.png\", itk.D)\n",
    "print(image)"
   ]
  },
  {
   "cell_type": "markdown",
   "metadata": {},
   "source": [
    "To find the supported types for a filter, call `.GetTypes()` on the filter. `itk.imread` wraps, the `itk.ImageFileReader` filter.\n",
    "\n",
    "可以通过调用`.GetTypes()`获取支持的类型"
   ]
  },
  {
   "cell_type": "code",
   "execution_count": 25,
   "metadata": {},
   "outputs": [
    {
     "name": "stdout",
     "output_type": "stream",
     "text": [
      "<itkTemplate itk::ImageFileReader>\n",
      "Options:\n",
      "  [<class 'itkCoocurrenceTextureFeaturesImageFilterPython.itkImageVF82'>,]\n",
      "  [<class 'itkCoocurrenceTextureFeaturesImageFilterPython.itkImageVF83'>,]\n",
      "  [<class 'itkImagePython.itkImageCF2'>,]\n",
      "  [<class 'itkImagePython.itkImageCF3'>,]\n",
      "  [<class 'itkImagePython.itkImageCVF22'>,]\n",
      "  [<class 'itkImagePython.itkImageCVF23'>,]\n",
      "  [<class 'itkImagePython.itkImageCVF32'>,]\n",
      "  [<class 'itkImagePython.itkImageCVF33'>,]\n",
      "  [<class 'itkImagePython.itkImageCVF42'>,]\n",
      "  [<class 'itkImagePython.itkImageCVF43'>,]\n",
      "  [<class 'itkImagePython.itkImageF2'>,]\n",
      "  [<class 'itkImagePython.itkImageF3'>,]\n",
      "  [<class 'itkImagePython.itkImageRGBAUC2'>,]\n",
      "  [<class 'itkImagePython.itkImageRGBAUC3'>,]\n",
      "  [<class 'itkImagePython.itkImageRGBUC2'>,]\n",
      "  [<class 'itkImagePython.itkImageRGBUC3'>,]\n",
      "  [<class 'itkImagePython.itkImageSS2'>,]\n",
      "  [<class 'itkImagePython.itkImageSS3'>,]\n",
      "  [<class 'itkImagePython.itkImageUC2'>,]\n",
      "  [<class 'itkImagePython.itkImageUC3'>,]\n",
      "  [<class 'itkImagePython.itkImageUS2'>,]\n",
      "  [<class 'itkImagePython.itkImageUS3'>,]\n",
      "  [<class 'itkImagePython.itkImageVF22'>,]\n",
      "  [<class 'itkImagePython.itkImageVF23'>,]\n",
      "  [<class 'itkImagePython.itkImageVF32'>,]\n",
      "  [<class 'itkImagePython.itkImageVF33'>,]\n",
      "  [<class 'itkImagePython.itkImageVF42'>,]\n",
      "  [<class 'itkImagePython.itkImageVF43'>,]\n",
      "  [<class 'itkRunLengthTextureFeaturesImageFilterPython.itkImageVF102'>,]\n",
      "  [<class 'itkRunLengthTextureFeaturesImageFilterPython.itkImageVF103'>,]\n",
      "  [<class 'itkVectorImagePython.itkVectorImageF2'>,]\n",
      "  [<class 'itkVectorImagePython.itkVectorImageF3'>,]\n",
      "  [<class 'itkVectorImagePython.itkVectorImageSS2'>,]\n",
      "  [<class 'itkVectorImagePython.itkVectorImageSS3'>,]\n",
      "  [<class 'itkVectorImagePython.itkVectorImageUC2'>,]\n",
      "  [<class 'itkVectorImagePython.itkVectorImageUC3'>,]\n",
      "  [<class 'itkVectorImagePython.itkVectorImageUS2'>,]\n",
      "  [<class 'itkVectorImagePython.itkVectorImageUS3'>,]\n"
     ]
    }
   ],
   "source": [
    "itk.ImageFileReader.GetTypes()"
   ]
  },
  {
   "cell_type": "markdown",
   "metadata": {
    "slideshow": {
     "slide_type": "fragment"
    }
   },
   "source": [
    "One approach to handle this type of error is is to read the image into a supported pixel type:\n",
    "\n",
    "处理此类错误的一种方法是将图像读入支持的像素类型："
   ]
  },
  {
   "cell_type": "code",
   "execution_count": 27,
   "metadata": {
    "slideshow": {
     "slide_type": "fragment"
    }
   },
   "outputs": [],
   "source": [
    "image = itk.imread(\"data/KitwareITK.jpg\", itk.F)"
   ]
  },
  {
   "cell_type": "markdown",
   "metadata": {
    "slideshow": {
     "slide_type": "fragment"
    }
   },
   "source": [
    "Another approach is to cast the image to a supported image type:\n",
    "\n",
    "另一种方法是将图像转换为支持的图像类型："
   ]
  },
  {
   "cell_type": "code",
   "execution_count": 28,
   "metadata": {
    "slideshow": {
     "slide_type": "fragment"
    }
   },
   "outputs": [],
   "source": [
    "InputImageType = itk.Image[itk.F, 2]\n",
    "OutputImageType = itk.Image[itk.UC, 2]\n",
    "cast_filter = itk.CastImageFilter[InputImageType, OutputImageType].New(image)\n",
    "cast_filter.Update()"
   ]
  },
  {
   "cell_type": "markdown",
   "metadata": {
    "slideshow": {
     "slide_type": "subslide"
    }
   },
   "source": [
    "## Appendix"
   ]
  },
  {
   "cell_type": "markdown",
   "metadata": {
    "slideshow": {
     "slide_type": "fragment"
    }
   },
   "source": [
    "### Functions to know\n",
    "* `itk.imread(file_name [, pixel_type])`\n",
    "* `itk.imwrite(image, file_name [, compression])`\n",
    "* `itk.array_from_image(image)` and `itk.array_view_from_image(image)`\n",
    "* `itk.image_from_array(arr)` and `itk.image_view_from_array(arr)`"
   ]
  },
  {
   "cell_type": "markdown",
   "metadata": {
    "slideshow": {
     "slide_type": "fragment"
    }
   },
   "source": [
    "### Pixel types - Two options\n",
    "* itk.ctype('float'), itk.ctype('unsigned char')\n",
    "* itk.F, itk.UC"
   ]
  },
  {
   "cell_type": "markdown",
   "metadata": {
    "slideshow": {
     "slide_type": "skip"
    }
   },
   "source": [
    "### Convenience functions\n",
    "* `itk.size(image)`\n",
    "* `itk.spacing(image)`\n",
    "* `itk.origin(image)`\n",
    "* `itk.index(image)`\n",
    "* `itk.physical_size(image)`"
   ]
  },
  {
   "cell_type": "markdown",
   "metadata": {},
   "source": [
    "See also: the **[ITK Python Quick Start Guide](https://itkpythonpackage.readthedocs.io/en/latest/Quick_start_guide.html)**"
   ]
  },
  {
   "cell_type": "markdown",
   "metadata": {},
   "source": [
    "### Enjoy ITK!"
   ]
  }
 ],
 "metadata": {
  "celltoolbar": "Slideshow",
  "kernelspec": {
   "display_name": "Python 3",
   "language": "python",
   "name": "python3"
  },
  "language_info": {
   "codemirror_mode": {
    "name": "ipython",
    "version": 3
   },
   "file_extension": ".py",
   "mimetype": "text/x-python",
   "name": "python",
   "nbconvert_exporter": "python",
   "pygments_lexer": "ipython3",
   "version": "3.7.1"
  }
 },
 "nbformat": 4,
 "nbformat_minor": 2
}
