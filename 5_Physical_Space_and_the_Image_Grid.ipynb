{
 "cells": [
  {
   "cell_type": "markdown",
   "metadata": {
    "slideshow": {
     "slide_type": "slide"
    }
   },
   "source": [
    "# Physical Space and the Image Grid\n",
    "\n",
    "# 物理空间与图像网格"
   ]
  },
  {
   "cell_type": "markdown",
   "metadata": {
    "slideshow": {
     "slide_type": "slide"
    }
   },
   "source": [
    "### Learning Objectives\n",
    "\n",
    "* Understand how an **image pixel grid** is defined in **physical space**\n",
    "* Understand how a **spatial transform** *defines the map between two physical spaces*\n",
    "* Understand **how to define a resampling operation** to generate a new image grid\n",
    "* Understand the **role of image interpolators**, and become familiar with a few common interpolators\n",
    "\n",
    "### 学习目标\n",
    "\n",
    "* 理解**图像像素网格**如何定义在**物理空间**中\n",
    "* 理解**空间变换**定义了*两个物理空间的变换*\n",
    "* 理解**如何定义一个重采样操作**来生成新的图像网格\n",
    "* 理解**图像插值的角色**，熟悉通用的插值方法"
   ]
  },
  {
   "cell_type": "markdown",
   "metadata": {
    "slideshow": {
     "slide_type": "slide"
    }
   },
   "source": [
    "## Overview"
   ]
  },
  {
   "cell_type": "markdown",
   "metadata": {
    "slideshow": {
     "slide_type": "slide"
    }
   },
   "source": [
    "### Physical Space, Images, and the Pixel Grid\n",
    "\n",
    "### 物理空间，图像，和像素网格"
   ]
  },
  {
   "cell_type": "markdown",
   "metadata": {
    "slideshow": {
     "slide_type": "subslide"
    }
   },
   "source": [
    "When performing image registration, where the object is to find the spatial transform that maps between the fixed image space and the moving image space, it is **extremely important** to have clear definitions of **physical space**, aka **world space**, and how images live in these spaces.\n",
    "\n",
    "Once we have *good definitions* and *follow them consistently*, operations such resampling, interpolation, multi-resolution processing, and spatial transform as are **clear** and **correct**, even on images that **anisotropic**, **oriented**, or with **multi-component tensor pixels**, such as gradient vectors or diffusion tensors.\n",
    "\n",
    "处理图像配准的时候，当对象要找到固定图像空间和移动图像空间之间的空间变换映射时，能够清楚的定义图像如何在对应的物理空间（或世界空间）中是非常重要的。\n",
    "\n",
    "一旦我们有了好的定义并始终如一地遵循它们，即使在各向异性的、定向的或具有多分量张量像素（例如梯度向量或扩散张量）的图像上，诸如重新采样、插值、多分辨率处理和空间变换等操作也是清晰和正确的。"
   ]
  },
  {
   "cell_type": "markdown",
   "metadata": {
    "slideshow": {
     "slide_type": "subslide"
    }
   },
   "source": [
    "### Problem: Register a Human Lung Volume from Two Time Points\n",
    "\n",
    "Given a problem to register x-ray computed tomography (CT) images of a human lung taken at two time points, **what must be supported?**\n",
    "\n",
    "In image registration, we typically identify the two images as the **fixed** and **moving** image. Our goal is to **find the spatial transformation that makes the moving image so align with the fixed image**. Our fixed image was acquired from the patient at a baseline time point, and our moving image was acquired at a follow-up time point.\n",
    "\n",
    "### 问题：来自两个时间点的人类肺图像配准\n",
    "\n",
    "考虑到在两个时间点拍摄的人肺x射线计算机断层扫描（CT）图像的配准问题，**必须支持什么**？\n",
    "\n",
    "在图像配准的时候，我们通常两个图像分别定义为**固定**图像和**运动**图像。我们的目标是**找到使运动图像与固定图像对齐的空间变换**。固定图像从病人的baseline时间点获取，我们的运动图像从随后的时间点获取。"
   ]
  },
  {
   "cell_type": "markdown",
   "metadata": {
    "slideshow": {
     "slide_type": "subslide"
    }
   },
   "source": [
    "First, let's examine our fixed and moving images.\n",
    "\n",
    "首先，让我们来看一下固定和运动图像"
   ]
  },
  {
   "cell_type": "code",
   "execution_count": 1,
   "metadata": {
    "slideshow": {
     "slide_type": "subslide"
    }
   },
   "outputs": [],
   "source": [
    "import itk\n",
    "from itkwidgets import view, checkerboard"
   ]
  },
  {
   "cell_type": "code",
   "execution_count": 2,
   "metadata": {
    "slideshow": {
     "slide_type": "fragment"
    }
   },
   "outputs": [
    {
     "data": {
      "application/vnd.jupyter.widget-view+json": {
       "model_id": "a59ebbb677a340949d1f4860bbbf5279",
       "version_major": 2,
       "version_minor": 0
      },
      "text/plain": [
       "Viewer(geometries=[], gradient_opacity=0.22, mode='x', point_sets=[], rendered_image=<itkImagePython.itkImageS…"
      ]
     },
     "metadata": {},
     "output_type": "display_data"
    }
   ],
   "source": [
    "fixed_image = itk.imread('data/CT_3D_lung_fixed.mha')\n",
    "\n",
    "view(fixed_image, mode='x')"
   ]
  },
  {
   "cell_type": "markdown",
   "metadata": {
    "slideshow": {
     "slide_type": "fragment"
    }
   },
   "source": [
    "The CT image provides radiodensity in [Hounsefield units](https://en.wikipedia.org/wiki/Hounsfield_scale); lung tissue approaches -1000 in intensity, the value for air, and soft tissue is slightly above 0 intensity, the value for water.\n",
    "\n",
    "CT影像的放射剂量是[Hounsefield units](https://en.wikipedia.org/wiki/Hounsfield_scale)，肺组织通常在-1000的强度，这个值是属于空气的，软组织是比0大一点，这个值属于水的。"
   ]
  },
  {
   "cell_type": "code",
   "execution_count": 3,
   "metadata": {
    "slideshow": {
     "slide_type": "subslide"
    }
   },
   "outputs": [
    {
     "data": {
      "application/vnd.jupyter.widget-view+json": {
       "model_id": "1e1f3e57b895463f915de199e32e05b3",
       "version_major": 2,
       "version_minor": 0
      },
      "text/plain": [
       "Viewer(annotations=False, geometries=[], gradient_opacity=0.5, point_sets=[], rendered_image=<itkImagePython.i…"
      ]
     },
     "metadata": {},
     "output_type": "display_data"
    }
   ],
   "source": [
    "view(fixed_image, vmax=-300, gradient_opacity=0.5, ui_collapsed=True, annotations=False)"
   ]
  },
  {
   "cell_type": "code",
   "execution_count": 4,
   "metadata": {
    "slideshow": {
     "slide_type": "subslide"
    }
   },
   "outputs": [
    {
     "data": {
      "application/vnd.jupyter.widget-view+json": {
       "model_id": "bed14f2aa1f3491ba00ce0c6bce294ca",
       "version_major": 2,
       "version_minor": 0
      },
      "text/plain": [
       "Viewer(annotations=False, geometries=[], gradient_opacity=0.22, point_sets=[], rendered_image=<itkImagePython.…"
      ]
     },
     "metadata": {},
     "output_type": "display_data"
    }
   ],
   "source": [
    "view(fixed_image, vmin=-50, vmax=500, ui_collapsed=True, annotations=False)"
   ]
  },
  {
   "cell_type": "code",
   "execution_count": 5,
   "metadata": {
    "slideshow": {
     "slide_type": "subslide"
    }
   },
   "outputs": [
    {
     "name": "stdout",
     "output_type": "stream",
     "text": [
      "itkVectorD3 ([1.366, 1.366, 2.5])\n"
     ]
    },
    {
     "data": {
      "application/vnd.jupyter.widget-view+json": {
       "model_id": "a35b64de4f68487e99ce1ebf2cfdc7c8",
       "version_major": 2,
       "version_minor": 0
      },
      "text/plain": [
       "Viewer(geometries=[], gradient_opacity=0.22, mode='z', point_sets=[], rendered_image=<itkImagePython.itkImageS…"
      ]
     },
     "metadata": {},
     "output_type": "display_data"
    }
   ],
   "source": [
    "print(fixed_image.GetSpacing())\n",
    "\n",
    "view(fixed_image, mode='z')"
   ]
  },
  {
   "cell_type": "markdown",
   "metadata": {
    "slideshow": {
     "slide_type": "fragment"
    }
   },
   "source": [
    "**Take-home observations**:\n",
    "\n",
    "- The resolution is anisotropic; resolution is higher in-plane versus out-of-plane.\n",
    "- The pixel type is signed short: registration requires supporting this pixel type and interpolating samples between these pixels.\n",
    "\n",
    "- 分辨率是各向异性的；面内分辨率比面外分辨率高。\n",
    "- 像素类型被签名为short：配准需要支持此像素类型并在这些像素之间插值采样"
   ]
  },
  {
   "cell_type": "markdown",
   "metadata": {
    "slideshow": {
     "slide_type": "subslide"
    }
   },
   "source": [
    "We **conceptualize** a **spatial image** as a **uniform grid of pixels** or **pixel grid** that lives is physical space.\n",
    "\n",
    "Let's continue [with this presentation](https://docs.google.com/presentation/d/1Mo_yHmJ7Uai2DKAO2VTyAm56V9KdI-Wx5xVgc9gljmQ/edit?usp=sharing)."
   ]
  },
  {
   "cell_type": "markdown",
   "metadata": {
    "slideshow": {
     "slide_type": "slide"
    }
   },
   "source": [
    "### Exercise: Lung image size\n",
    "\n",
    "There are two 3D CT lung images, sampled on different image grids:\n",
    "\n",
    "1. *data/CT_3D_lung_fixed.mha*\n",
    "2. *data/CT_3D_lung_fixed_small.mha*\n",
    "\n",
    "Which is larger in terms of its:\n",
    "\n",
    "* File size?\n",
    "* Spatial domain?\n",
    "* Resolution?\n",
    "\n",
    "How much less time will it take to register *CT_3D_lung_fixed_small.mha* to *CT_3D_lung_moving.mha*?"
   ]
  },
  {
   "cell_type": "code",
   "execution_count": 9,
   "metadata": {},
   "outputs": [
    {
     "name": "stdout",
     "output_type": "stream",
     "text": [
      "data/CT_3D_lung_fixed.mha\t data/CT_3D_lung_moving.mha\r\n",
      "data/CT_3D_lung_fixed_small.mha\r\n"
     ]
    }
   ],
   "source": [
    "!ls data/CT*mha"
   ]
  },
  {
   "cell_type": "code",
   "execution_count": 9,
   "metadata": {},
   "outputs": [
    {
     "name": "stdout",
     "output_type": "stream",
     "text": [
      "DimSize = 115 157 129\r\n"
     ]
    }
   ],
   "source": [
    "!head -12 data/CT_3D_lung_fixed.mha | grep DimSize "
   ]
  },
  {
   "cell_type": "markdown",
   "metadata": {},
   "source": [
    "### Enjoy ITK!"
   ]
  }
 ],
 "metadata": {
  "celltoolbar": "Slideshow",
  "kernelspec": {
   "display_name": "Python 3",
   "language": "python",
   "name": "python3"
  },
  "language_info": {
   "codemirror_mode": {
    "name": "ipython",
    "version": 3
   },
   "file_extension": ".py",
   "mimetype": "text/x-python",
   "name": "python",
   "nbconvert_exporter": "python",
   "pygments_lexer": "ipython3",
   "version": "3.7.1"
  }
 },
 "nbformat": 4,
 "nbformat_minor": 1
}
