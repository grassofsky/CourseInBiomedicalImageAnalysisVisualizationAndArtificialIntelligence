{
 "cells": [
  {
   "cell_type": "markdown",
   "metadata": {
    "slideshow": {
     "slide_type": "slide"
    }
   },
   "source": [
    "# Image Filtering\n",
    "\n",
    "# 图像滤波"
   ]
  },
  {
   "cell_type": "markdown",
   "metadata": {
    "slideshow": {
     "slide_type": "slide"
    }
   },
   "source": [
    "## Overview"
   ]
  },
  {
   "cell_type": "markdown",
   "metadata": {
    "slideshow": {
     "slide_type": "subslide"
    }
   },
   "source": [
    "### Learning Objectives\n",
    "\n",
    "* Becoming familiar with the Pythonic and Object-oriented ITK interfaces\n",
    "* Understand the image processing pipeline model used in ITK\n",
    "* Gain familiarity with some of the filtering algorithms available in ITK\n",
    "\n",
    "### 学习目标\n",
    "\n",
    "* 更加熟悉Pythonic和面向对象的ITK接口\n",
    "* 理解使用ITK的图像处理pipeline模型\n",
    "* 熟悉ITK中的一些滤波算法"
   ]
  },
  {
   "cell_type": "markdown",
   "metadata": {
    "slideshow": {
     "slide_type": "slide"
    }
   },
   "source": [
    "## Data and Process Objects\n",
    "\n",
    "## 数据和处理对象"
   ]
  },
  {
   "cell_type": "markdown",
   "metadata": {
    "slideshow": {
     "slide_type": "subslide"
    }
   },
   "source": [
    "While **data objects** (e.g., [Images](https://itk.org/ITKSoftwareGuide/html/Book1/ITKSoftwareGuide-Book1ch4.html#x40-440004.1) and [Meshes](https://itk.org/ITKSoftwareGuide/html/Book1/ITKSoftwareGuide-Book1ch4.html#x40-590004.3)) are used to represent data, **process objects** are classes that operate on data objects and may produce new data objects.\n",
    "\n",
    "然而，**数据对象**，（如[Images](https://itk.org/ITKSoftwareGuide/html/Book1/ITKSoftwareGuide-Book1ch4.html#x40-440004.1) 和 [Meshes](https://itk.org/ITKSoftwareGuide/html/Book1/ITKSoftwareGuide-Book1ch4.html#x40-590004.3)) ，被用来标识数据，**处理对象**是用来处理数据对象的类，可能可以生成新的数据对象。"
   ]
  },
  {
   "cell_type": "markdown",
   "metadata": {
    "slideshow": {
     "slide_type": "subslide"
    }
   },
   "source": [
    "Process objects are classed as sources, filter objects, or mappers.\n",
    "\n",
    "**Sources** (such as readers) produce data, **filter** objects take in data and process it to produce new data, and **mappers** accept data for output either to a file or some other system. \n",
    "\n",
    "Sometimes the term *filter* is used broadly to refer to all three types.\n",
    "\n",
    "处理对象可以被分为sources, filter objects, 或者 mappers.\n",
    "\n",
    "**Sources** （如readers）用来产生数据，**filter**对象输入数据，进行处理，生成新的数据，**mappers**接收用来接收输出到文件或其他系统的数据。\n",
    "\n",
    "有些时候*filter*用来指代上面的所有三种类型。\n",
    "\n",
    "\n",
    "![Data pipeline](data/data-pipeline.png)"
   ]
  },
  {
   "cell_type": "markdown",
   "metadata": {
    "slideshow": {
     "slide_type": "subslide"
    }
   },
   "source": [
    "Typically **data objects** and **process objects** are connected together using the `SetInput()` and `GetOutput()` methods.\n",
    "\n",
    "Generation of new outputs and pixel data does not occur until the `Update()` method is called on the **end** of the pipeline (on the process object or the data object).\n",
    "\n",
    "通常**data objects**和**process objects**通过`SetInput()`和`GetOutput()`方法连接到一块儿。\n",
    "\n",
    "只有当流水线的终端（处理对象或数据对象）调用`Update()`方法之后，才会产生新的输出和像素数据。\n",
    "\n",
    "![Pipeline updates](data/pipeline-updates.png)"
   ]
  },
  {
   "cell_type": "markdown",
   "metadata": {
    "slideshow": {
     "slide_type": "subslide"
    }
   },
   "source": [
    "The **data** associated with multi-dimensional images **is large and becoming larger**. \n",
    "\n",
    "Any practical image analysis system must address this fact in order to be useful in applications with multi-dimensional images. ITK addresses this problem via its **data streaming** facility.\n",
    "\n",
    "多维图像关联的**数据**很大，并且正在变大。\n",
    "\n",
    "任何实用的图像分析系统都必须解决这一问题，以便在多维图像的应用中发挥作用。ITK通过其**数据流**功能解决了这个问题。\n",
    "\n",
    "![Streaming](data/streaming.gif)"
   ]
  },
  {
   "cell_type": "markdown",
   "metadata": {
    "slideshow": {
     "slide_type": "subslide"
    }
   },
   "source": [
    "Streaming is performed by splitting the image into non-overlapping **regions** at the **end of the pipeline**. The *RequestedRegion* then propagates up the pipeline.\n",
    "\n",
    "在pipeline的结尾通过将图像分割成没有重叠的区域来执行数据流。*RequestedRegion* 会随着数据流向上传播。"
   ]
  },
  {
   "cell_type": "markdown",
   "metadata": {
    "slideshow": {
     "slide_type": "fragment"
    }
   },
   "source": [
    "There are three named [ImageRegion](https://itk.org/Insight/Doxygen/html/classitk_1_1ImageRegion.html)'s encountered in ITK:\n",
    "\n",
    "- *BufferedRegion*: The region of pixels stored in memory"
   ]
  },
  {
   "cell_type": "markdown",
   "metadata": {
    "slideshow": {
     "slide_type": "fragment"
    }
   },
   "source": [
    "- *LargestPossibleRegion*: The largest possible region of an image"
   ]
  },
  {
   "cell_type": "markdown",
   "metadata": {
    "slideshow": {
     "slide_type": "fragment"
    }
   },
   "source": [
    "- *RequestedRegion*: The region requested on a single processing pass when streaming. The BufferedRegion and LargestPossibleRegion are as large or larger than the RequestedRegion"
   ]
  },
  {
   "cell_type": "markdown",
   "metadata": {},
   "source": [
    "在ITK中会遇到三种[ImageRegion](https://itk.org/Insight/Doxygen/html/classitk_1_1ImageRegion.html):\n",
    "\n",
    "- *BufferedRegion*. 像素的区域存储在内存中\n",
    "\n",
    "- *LargestPossibleRegion：*一张图像最大的可能区域\n",
    "\n",
    "- *RequestedRegion：*流式处理时在单个处理过程中请求的区域。BufferedRegion和LargestPossibleRegion与RequestedRegion一样大或更大。"
   ]
  },
  {
   "cell_type": "markdown",
   "metadata": {
    "slideshow": {
     "slide_type": "subslide"
    }
   },
   "source": [
    "For more information, see,\n",
    "\n",
    "- The [*Filtering* chapter](https://itk.org/ITKSoftwareGuide/html/Book2/ITKSoftwareGuide-Book2ch2.html#x17-320002) of Book 2 of the ITK Software Guide.\n",
    "- The [*Data Processing Pipeline* section](https://itk.org/ITKSoftwareGuide/html/Book1/ITKSoftwareGuide-Book1ch3.html#x39-420003.5) of the *System Overview* chapter of Book 1 of the ITK Software Guide.\n",
    "- The [*Data Representation* chapter](https://itk.org/ITKSoftwareGuide/html/Book1/ITKSoftwareGuide-Book1ch4.html#x45-490004) of Book 1 of the ITK Software Guide."
   ]
  },
  {
   "cell_type": "markdown",
   "metadata": {
    "slideshow": {
     "slide_type": "slide"
    }
   },
   "source": [
    "## Tutorial"
   ]
  },
  {
   "cell_type": "code",
   "execution_count": 1,
   "metadata": {
    "slideshow": {
     "slide_type": "subslide"
    }
   },
   "outputs": [],
   "source": [
    "import numpy as np\n",
    "import itk\n",
    "from itkwidgets import view\n",
    "from ipywidgets import interactive\n",
    "import ipywidgets as widgets"
   ]
  },
  {
   "cell_type": "markdown",
   "metadata": {
    "slideshow": {
     "slide_type": "subslide"
    }
   },
   "source": [
    "We can monitor when a filter gets called by registering a command that gets called when [ProgressEvents](https://itk.org/Doxygen/html/classitk_1_1ProgressEvent.html) occur.\n",
    "\n",
    "当[ProgressEvents](https://itk.org/Doxygen/html/classitk_1_1ProgressEvent.html)发生的时候，我们可以监测到filter被注册的命令调用。"
   ]
  },
  {
   "cell_type": "code",
   "execution_count": 2,
   "metadata": {},
   "outputs": [],
   "source": [
    "itk.auto_progress(2)"
   ]
  },
  {
   "cell_type": "markdown",
   "metadata": {
    "slideshow": {
     "slide_type": "subslide"
    }
   },
   "source": [
    "Start an image processing pipeline with a source, an `ImageFileReader`.\n",
    "\n",
    "以source（`ImageFileReader`）开始图像处理流水线。"
   ]
  },
  {
   "cell_type": "code",
   "execution_count": 3,
   "metadata": {
    "slideshow": {
     "slide_type": "-"
    }
   },
   "outputs": [
    {
     "name": "stderr",
     "output_type": "stream",
     "text": [
      "Loading ITKPyBase... done\n",
      "Loading ITKCommon... done\n",
      "Loading ITKIOImageBase... done\n",
      "Loading ITKPyUtils... done\n"
     ]
    }
   ],
   "source": [
    "file_name = 'data/PacMan.png'\n",
    "reader = itk.ImageFileReader.New(FileName=file_name)"
   ]
  },
  {
   "cell_type": "markdown",
   "metadata": {
    "slideshow": {
     "slide_type": "subslide"
    }
   },
   "source": [
    "Next, let's create a smoothing filter. To connect the pipeline, specify the `Output` of the reader as the `Input` to the smoother.\n",
    "\n",
    "接着，让我们创建一个平滑滤波器。为了连接pipeline，将reader的`Output`作为smoother的`Input`。"
   ]
  },
  {
   "cell_type": "code",
   "execution_count": 4,
   "metadata": {},
   "outputs": [
    {
     "name": "stderr",
     "output_type": "stream",
     "text": [
      "Loading ITKStatistics... done\n",
      "Loading ITKImageFilterBase... done\n",
      "Loading ITKTransform... done\n",
      "Loading ITKImageFunction... done\n",
      "Loading ITKSmoothing... done\n"
     ]
    }
   ],
   "source": [
    "smoother = itk.RecursiveGaussianImageFilter.New(Input=reader.GetOutput())"
   ]
  },
  {
   "cell_type": "markdown",
   "metadata": {
    "slideshow": {
     "slide_type": "subslide"
    }
   },
   "source": [
    "At this point, no output images have been generated.\n",
    "\n",
    "We have configured the simple pipeline:\n",
    "\n",
    "reader -> smoother\n",
    "\n",
    "这个时候，没有生成任何的输出图像。\n",
    "\n",
    "我们已经配置了简单的流水线：\n",
    "\n",
    "reader -> smoother"
   ]
  },
  {
   "cell_type": "code",
   "execution_count": 5,
   "metadata": {},
   "outputs": [
    {
     "name": "stdout",
     "output_type": "stream",
     "text": [
      "reader's Output: Image (0x55a5bf3ea2b0)\n",
      "  RTTI typeinfo:   itk::Image<unsigned char, 2u>\n",
      "  Reference Count: 3\n",
      "  Modified Time: 213\n",
      "  Debug: Off\n",
      "  Object Name: \n",
      "  Observers: \n",
      "    none\n",
      "  Source: (0x55a5bf9052c0) \n",
      "  Source output name: Primary\n",
      "  Release Data: Off\n",
      "  Data Released: False\n",
      "  Global Release Data: Off\n",
      "  PipelineMTime: 0\n",
      "  UpdateMTime: 0\n",
      "  RealTimeStamp: 0 seconds \n",
      "  LargestPossibleRegion: \n",
      "    Dimension: 2\n",
      "    Index: [0, 0]\n",
      "    Size: [0, 0]\n",
      "  BufferedRegion: \n",
      "    Dimension: 2\n",
      "    Index: [0, 0]\n",
      "    Size: [0, 0]\n",
      "  RequestedRegion: \n",
      "    Dimension: 2\n",
      "    Index: [0, 0]\n",
      "    Size: [0, 0]\n",
      "  Spacing: [1, 1]\n",
      "  Origin: [0, 0]\n",
      "  Direction: \n",
      "1 0\n",
      "0 1\n",
      "\n",
      "  IndexToPointMatrix: \n",
      "1 0\n",
      "0 1\n",
      "\n",
      "  PointToIndexMatrix: \n",
      "1 0\n",
      "0 1\n",
      "\n",
      "  Inverse Direction: \n",
      "1 0\n",
      "0 1\n",
      "\n",
      "  PixelContainer: \n",
      "    ImportImageContainer (0x55a5c0b11970)\n",
      "      RTTI typeinfo:   itk::ImportImageContainer<unsigned long, unsigned char>\n",
      "      Reference Count: 1\n",
      "      Modified Time: 210\n",
      "      Debug: Off\n",
      "      Object Name: \n",
      "      Observers: \n",
      "        none\n",
      "      Pointer: 0\n",
      "      Container manages memory: true\n",
      "      Size: 0\n",
      "      Capacity: 0\n",
      "\n",
      "smoother's Output: Image (0x55a5bf3e5440)\n",
      "  RTTI typeinfo:   itk::Image<unsigned char, 2u>\n",
      "  Reference Count: 2\n",
      "  Modified Time: 9\n",
      "  Debug: Off\n",
      "  Object Name: \n",
      "  Observers: \n",
      "    none\n",
      "  Source: (0x55a5c0e51930) \n",
      "  Source output name: Primary\n",
      "  Release Data: Off\n",
      "  Data Released: False\n",
      "  Global Release Data: Off\n",
      "  PipelineMTime: 0\n",
      "  UpdateMTime: 0\n",
      "  RealTimeStamp: 0 seconds \n",
      "  LargestPossibleRegion: \n",
      "    Dimension: 2\n",
      "    Index: [0, 0]\n",
      "    Size: [0, 0]\n",
      "  BufferedRegion: \n",
      "    Dimension: 2\n",
      "    Index: [0, 0]\n",
      "    Size: [0, 0]\n",
      "  RequestedRegion: \n",
      "    Dimension: 2\n",
      "    Index: [0, 0]\n",
      "    Size: [0, 0]\n",
      "  Spacing: [1, 1]\n",
      "  Origin: [0, 0]\n",
      "  Direction: \n",
      "1 0\n",
      "0 1\n",
      "\n",
      "  IndexToPointMatrix: \n",
      "1 0\n",
      "0 1\n",
      "\n",
      "  PointToIndexMatrix: \n",
      "1 0\n",
      "0 1\n",
      "\n",
      "  Inverse Direction: \n",
      "1 0\n",
      "0 1\n",
      "\n",
      "  PixelContainer: \n",
      "    ImportImageContainer (0x55a5bff27860)\n",
      "      RTTI typeinfo:   itk::ImportImageContainer<unsigned long, unsigned char>\n",
      "      Reference Count: 1\n",
      "      Modified Time: 6\n",
      "      Debug: Off\n",
      "      Object Name: \n",
      "      Observers: \n",
      "        none\n",
      "      Pointer: 0\n",
      "      Container manages memory: true\n",
      "      Size: 0\n",
      "      Capacity: 0\n",
      "\n"
     ]
    }
   ],
   "source": [
    "print(\"reader's Output: %s\" % reader.GetOutput())\n",
    "print(\"smoother's Output: %s\" % smoother.GetOutput())"
   ]
  },
  {
   "cell_type": "markdown",
   "metadata": {
    "slideshow": {
     "slide_type": "subslide"
    }
   },
   "source": [
    "To generate the filter outputs, we must call `Update()` on the filter at the end of the pipeline. In this case, it is the smoother.\n",
    "\n",
    "为了产生滤波的结果，我们必须调用filter的`Update()`方法。此处是smoother。"
   ]
  },
  {
   "cell_type": "code",
   "execution_count": 6,
   "metadata": {},
   "outputs": [
    {
     "name": "stdout",
     "output_type": "stream",
     "text": [
      "reader's Output: Image (0x55a5bf3ea2b0)\n",
      "  RTTI typeinfo:   itk::Image<unsigned char, 2u>\n",
      "  Reference Count: 3\n",
      "  Modified Time: 394\n",
      "  Debug: Off\n",
      "  Object Name: \n",
      "  Observers: \n",
      "    none\n",
      "  Source: (0x55a5bf9052c0) \n",
      "  Source output name: Primary\n",
      "  Release Data: Off\n",
      "  Data Released: False\n",
      "  Global Release Data: Off\n",
      "  PipelineMTime: 223\n",
      "  UpdateMTime: 395\n",
      "  RealTimeStamp: 0 seconds \n",
      "  LargestPossibleRegion: \n",
      "    Dimension: 2\n",
      "    Index: [0, 0]\n",
      "    Size: [128, 128]\n",
      "  BufferedRegion: \n",
      "    Dimension: 2\n",
      "    Index: [0, 0]\n",
      "    Size: [128, 128]\n",
      "  RequestedRegion: \n",
      "    Dimension: 2\n",
      "    Index: [0, 0]\n",
      "    Size: [128, 128]\n",
      "  Spacing: [1, 1]\n",
      "  Origin: [0, 0]\n",
      "  Direction: \n",
      "1 0\n",
      "0 1\n",
      "\n",
      "  IndexToPointMatrix: \n",
      "1 0\n",
      "0 1\n",
      "\n",
      "  PointToIndexMatrix: \n",
      "1 0\n",
      "0 1\n",
      "\n",
      "  Inverse Direction: \n",
      "1 0\n",
      "0 1\n",
      "\n",
      "  PixelContainer: \n",
      "    ImportImageContainer (0x55a5c0b11970)\n",
      "      RTTI typeinfo:   itk::ImportImageContainer<unsigned long, unsigned char>\n",
      "      Reference Count: 1\n",
      "      Modified Time: 392\n",
      "      Debug: Off\n",
      "      Object Name: \n",
      "      Observers: \n",
      "        none\n",
      "      Pointer: 0x55a5c10cc9e0\n",
      "      Container manages memory: true\n",
      "      Size: 16384\n",
      "      Capacity: 16384\n",
      "\n",
      "smoother's Output: Image (0x55a5bf3e5440)\n",
      "  RTTI typeinfo:   itk::Image<unsigned char, 2u>\n",
      "  Reference Count: 2\n",
      "  Modified Time: 23\n",
      "  Debug: Off\n",
      "  Object Name: \n",
      "  Observers: \n",
      "    none\n",
      "  Source: (0x55a5c0e51930) \n",
      "  Source output name: Primary\n",
      "  Release Data: Off\n",
      "  Data Released: False\n",
      "  Global Release Data: Off\n",
      "  PipelineMTime: 388\n",
      "  UpdateMTime: 24\n",
      "  RealTimeStamp: 0 seconds \n",
      "  LargestPossibleRegion: \n",
      "    Dimension: 2\n",
      "    Index: [0, 0]\n",
      "    Size: [128, 128]\n",
      "  BufferedRegion: \n",
      "    Dimension: 2\n",
      "    Index: [0, 0]\n",
      "    Size: [128, 128]\n",
      "  RequestedRegion: \n",
      "    Dimension: 2\n",
      "    Index: [0, 0]\n",
      "    Size: [128, 128]\n",
      "  Spacing: [1, 1]\n",
      "  Origin: [0, 0]\n",
      "  Direction: \n",
      "1 0\n",
      "0 1\n",
      "\n",
      "  IndexToPointMatrix: \n",
      "1 0\n",
      "0 1\n",
      "\n",
      "  PointToIndexMatrix: \n",
      "1 0\n",
      "0 1\n",
      "\n",
      "  Inverse Direction: \n",
      "1 0\n",
      "0 1\n",
      "\n",
      "  PixelContainer: \n",
      "    ImportImageContainer (0x55a5bff27860)\n",
      "      RTTI typeinfo:   itk::ImportImageContainer<unsigned long, unsigned char>\n",
      "      Reference Count: 1\n",
      "      Modified Time: 21\n",
      "      Debug: Off\n",
      "      Object Name: \n",
      "      Observers: \n",
      "        none\n",
      "      Pointer: 0x55a5c0507bb0\n",
      "      Container manages memory: true\n",
      "      Size: 16384\n",
      "      Capacity: 16384\n",
      "\n"
     ]
    },
    {
     "name": "stderr",
     "output_type": "stream",
     "text": [
      "Running itkImageFileReaderIUC2... done\n",
      "Running itkRecursiveGaussianImageFilterIUC2IUC2... done\n",
      "done\n"
     ]
    }
   ],
   "source": [
    "smoother.Update()\n",
    "\n",
    "print(\"reader's Output: %s\" % reader.GetOutput())\n",
    "print(\"smoother's Output: %s\" % smoother.GetOutput())"
   ]
  },
  {
   "cell_type": "markdown",
   "metadata": {
    "slideshow": {
     "slide_type": "subslide"
    }
   },
   "source": [
    "Let's view the images.\n",
    "\n",
    "让我们来看一下结果。"
   ]
  },
  {
   "cell_type": "code",
   "execution_count": 7,
   "metadata": {
    "slideshow": {
     "slide_type": "subslide"
    }
   },
   "outputs": [
    {
     "name": "stderr",
     "output_type": "stream",
     "text": [
      "Loading ITKBridgeNumPy... done\n"
     ]
    },
    {
     "data": {
      "application/vnd.jupyter.widget-view+json": {
       "model_id": "f493154d8e364d4abbe8b61f5576ed01",
       "version_major": 2,
       "version_minor": 0
      },
      "text/plain": [
       "Viewer(geometries=[], gradient_opacity=0.22, point_sets=[], rendered_image=<itkImagePython.itkImageUC2; proxy …"
      ]
     },
     "metadata": {},
     "output_type": "display_data"
    }
   ],
   "source": [
    "image = reader.GetOutput()\n",
    "view(image, ui_collapsed=True)"
   ]
  },
  {
   "cell_type": "code",
   "execution_count": 8,
   "metadata": {
    "slideshow": {
     "slide_type": "fragment"
    }
   },
   "outputs": [
    {
     "data": {
      "application/vnd.jupyter.widget-view+json": {
       "model_id": "4d629cbf14464b5d98635eba4ea81e5b",
       "version_major": 2,
       "version_minor": 0
      },
      "text/plain": [
       "Viewer(geometries=[], gradient_opacity=0.22, point_sets=[], rendered_image=<itkImagePython.itkImageUC2; proxy …"
      ]
     },
     "metadata": {},
     "output_type": "display_data"
    }
   ],
   "source": [
    "smoothed = smoother.GetOutput()\n",
    "view(smoothed, ui_collapsed=True)"
   ]
  },
  {
   "cell_type": "markdown",
   "metadata": {
    "slideshow": {
     "slide_type": "subslide"
    }
   },
   "source": [
    "If we call `Update()` on the pipeline, the output pixel data is not needlessly generated because the pipeline is up-to-date.\n",
    "\n",
    "如果我们调用流水线的`Update()`方法，由于管线是最新的，因此没有必要再生成输出pixel。"
   ]
  },
  {
   "cell_type": "code",
   "execution_count": 9,
   "metadata": {},
   "outputs": [
    {
     "name": "stderr",
     "output_type": "stream",
     "text": [
      "Running itkRecursiveGaussianImageFilterIUC2IUC2... done\n",
      "done\n"
     ]
    }
   ],
   "source": [
    "smoother.Update()"
   ]
  },
  {
   "cell_type": "markdown",
   "metadata": {
    "slideshow": {
     "slide_type": "subslide"
    }
   },
   "source": [
    "However, if we change the amount of smoothing, new pixel data does need to be generated from the output of the smoother.\n",
    "\n",
    "但是，如果我们改变了参数，那么就会再次起作用生成新的输出。"
   ]
  },
  {
   "cell_type": "code",
   "execution_count": 10,
   "metadata": {},
   "outputs": [
    {
     "name": "stderr",
     "output_type": "stream",
     "text": [
      "Running itkRecursiveGaussianImageFilterIUC2IUC2... done\n",
      "done\n"
     ]
    }
   ],
   "source": [
    "smoother.SetSigma(10.0)\n",
    "smoother.Update()"
   ]
  },
  {
   "cell_type": "code",
   "execution_count": 11,
   "metadata": {},
   "outputs": [
    {
     "data": {
      "application/vnd.jupyter.widget-view+json": {
       "model_id": "07ce63488ffe403dbda6ee677984ed8f",
       "version_major": 2,
       "version_minor": 0
      },
      "text/plain": [
       "Viewer(geometries=[], gradient_opacity=0.22, point_sets=[], rendered_image=<itkImagePython.itkImageUC2; proxy …"
      ]
     },
     "metadata": {},
     "output_type": "display_data"
    }
   ],
   "source": [
    "view(smoothed, ui_collapsed=True)"
   ]
  },
  {
   "cell_type": "markdown",
   "metadata": {
    "slideshow": {
     "slide_type": "subslide"
    }
   },
   "source": [
    "Note, however, that the reader does generate its output because it is up-to-date and upstream from the smoother.\n",
    "\n",
    "If we artificially modify the reader, both the reader and the smoother need to regenerate their outputs.\n",
    "\n",
    "但是，需要注意的是，reader并没有再次生成output，因为它是最新的，并不需要再次生成。\n",
    "\n",
    "如果人为的改变reader，reader和smoother都需要重新生成输出。"
   ]
  },
  {
   "cell_type": "code",
   "execution_count": 12,
   "metadata": {},
   "outputs": [
    {
     "name": "stderr",
     "output_type": "stream",
     "text": [
      "Running itkImageFileReaderIUC2... done\n",
      "Running itkRecursiveGaussianImageFilterIUC2IUC2... done\n",
      "done\n"
     ]
    }
   ],
   "source": [
    "reader.Modified()\n",
    "\n",
    "smoother.Update()"
   ]
  },
  {
   "cell_type": "markdown",
   "metadata": {
    "slideshow": {
     "slide_type": "subslide"
    }
   },
   "source": [
    "### Exercise 1: The effect of Sigma\n",
    "\n",
    "Change the value of *Sigma* on the smoothing filter.\n",
    "\n",
    "- How is the output effected?\n",
    "- What are the units of Sigma?\n",
    "\n",
    "相关链接，参考：https://itk.org/Doxygen/html/classitk_1_1RecursiveGaussianImageFilter.html"
   ]
  },
  {
   "cell_type": "code",
   "execution_count": 14,
   "metadata": {},
   "outputs": [],
   "source": [
    "itk.RecursiveGaussianImageFilter?"
   ]
  },
  {
   "cell_type": "code",
   "execution_count": 19,
   "metadata": {},
   "outputs": [
    {
     "name": "stderr",
     "output_type": "stream",
     "text": [
      "Running itkImageFileReaderIUC2... done\n",
      "Running itkRecursiveGaussianImageFilterIUC2IUC2... done\n",
      "done\n"
     ]
    },
    {
     "data": {
      "application/vnd.jupyter.widget-view+json": {
       "model_id": "0750604714e0466c98d94664357e21c4",
       "version_major": 2,
       "version_minor": 0
      },
      "text/plain": [
       "Viewer(geometries=[], gradient_opacity=0.22, point_sets=[], rendered_image=<itkImagePython.itkImageUC2; proxy …"
      ]
     },
     "metadata": {},
     "output_type": "display_data"
    }
   ],
   "source": [
    "fileName = 'data/PacMan.png'\n",
    "reader = itk.ImageFileReader.New(FileName=fileName)\n",
    "smoother = itk.RecursiveGaussianImageFilter.New(Input=reader.GetOutput())\n",
    "smoother.SetSigma(6)\n",
    "smoother.Update()\n",
    "view(smoother.GetOutput())"
   ]
  },
  {
   "cell_type": "code",
   "execution_count": 31,
   "metadata": {
    "slideshow": {
     "slide_type": "fragment"
    }
   },
   "outputs": [],
   "source": [
    "# %load solutions/3_Image_Filtering_Exercise1.py"
   ]
  },
  {
   "cell_type": "markdown",
   "metadata": {
    "slideshow": {
     "slide_type": "subslide"
    }
   },
   "source": [
    "### Exercise 2: Does setting a filter parameter to its current value cause regeneration of its output?\n",
    "\n",
    "Call `smoother.SetSigma(smoother.GetSigma())` then `smoother.Update()`. \n",
    "\n",
    "- Is the output regenerated? \n",
    "- Is this expected / desirable?\n",
    "\n",
    "**如何判断数据有没有被更新呢？看了一下通过时间貌似都不行**"
   ]
  },
  {
   "cell_type": "code",
   "execution_count": 22,
   "metadata": {},
   "outputs": [],
   "source": [
    "smoother.Modified?"
   ]
  },
  {
   "cell_type": "code",
   "execution_count": 26,
   "metadata": {},
   "outputs": [
    {
     "name": "stdout",
     "output_type": "stream",
     "text": [
      "Image (0x55a5c1170930)\n",
      "  RTTI typeinfo:   itk::Image<unsigned char, 2u>\n",
      "  Reference Count: 2\n",
      "  Modified Time: 322\n",
      "  Debug: Off\n",
      "  Object Name: \n",
      "  Observers: \n",
      "    none\n",
      "  Source: (0x55a5c0cf6440) \n",
      "  Source output name: Primary\n",
      "  Release Data: Off\n",
      "  Data Released: False\n",
      "  Global Release Data: Off\n",
      "  PipelineMTime: 2335\n",
      "  UpdateMTime: 323\n",
      "  RealTimeStamp: 0 seconds \n",
      "  LargestPossibleRegion: \n",
      "    Dimension: 2\n",
      "    Index: [0, 0]\n",
      "    Size: [128, 128]\n",
      "  BufferedRegion: \n",
      "    Dimension: 2\n",
      "    Index: [0, 0]\n",
      "    Size: [128, 128]\n",
      "  RequestedRegion: \n",
      "    Dimension: 2\n",
      "    Index: [0, 0]\n",
      "    Size: [128, 128]\n",
      "  Spacing: [1, 1]\n",
      "  Origin: [0, 0]\n",
      "  Direction: \n",
      "1 0\n",
      "0 1\n",
      "\n",
      "  IndexToPointMatrix: \n",
      "1 0\n",
      "0 1\n",
      "\n",
      "  PointToIndexMatrix: \n",
      "1 0\n",
      "0 1\n",
      "\n",
      "  Inverse Direction: \n",
      "1 0\n",
      "0 1\n",
      "\n",
      "  PixelContainer: \n",
      "    ImportImageContainer (0x55a5c0598a50)\n",
      "      RTTI typeinfo:   itk::ImportImageContainer<unsigned long, unsigned char>\n",
      "      Reference Count: 4\n",
      "      Modified Time: 321\n",
      "      Debug: Off\n",
      "      Object Name: \n",
      "      Observers: \n",
      "        none\n",
      "      Pointer: 0x55a5c0f66c50\n",
      "      Container manages memory: true\n",
      "      Size: 16384\n",
      "      Capacity: 16384\n",
      "\n",
      "===========================\n",
      "Image (0x55a5c1170930)\n",
      "  RTTI typeinfo:   itk::Image<unsigned char, 2u>\n",
      "  Reference Count: 2\n",
      "  Modified Time: 326\n",
      "  Debug: Off\n",
      "  Object Name: \n",
      "  Observers: \n",
      "    none\n",
      "  Source: (0x55a5c0cf6440) \n",
      "  Source output name: Primary\n",
      "  Release Data: Off\n",
      "  Data Released: False\n",
      "  Global Release Data: Off\n",
      "  PipelineMTime: 2335\n",
      "  UpdateMTime: 327\n",
      "  RealTimeStamp: 0 seconds \n",
      "  LargestPossibleRegion: \n",
      "    Dimension: 2\n",
      "    Index: [0, 0]\n",
      "    Size: [128, 128]\n",
      "  BufferedRegion: \n",
      "    Dimension: 2\n",
      "    Index: [0, 0]\n",
      "    Size: [128, 128]\n",
      "  RequestedRegion: \n",
      "    Dimension: 2\n",
      "    Index: [0, 0]\n",
      "    Size: [128, 128]\n",
      "  Spacing: [1, 1]\n",
      "  Origin: [0, 0]\n",
      "  Direction: \n",
      "1 0\n",
      "0 1\n",
      "\n",
      "  IndexToPointMatrix: \n",
      "1 0\n",
      "0 1\n",
      "\n",
      "  PointToIndexMatrix: \n",
      "1 0\n",
      "0 1\n",
      "\n",
      "  Inverse Direction: \n",
      "1 0\n",
      "0 1\n",
      "\n",
      "  PixelContainer: \n",
      "    ImportImageContainer (0x55a5c0598a50)\n",
      "      RTTI typeinfo:   itk::ImportImageContainer<unsigned long, unsigned char>\n",
      "      Reference Count: 4\n",
      "      Modified Time: 325\n",
      "      Debug: Off\n",
      "      Object Name: \n",
      "      Observers: \n",
      "        none\n",
      "      Pointer: 0x55a5c0f66c50\n",
      "      Container manages memory: true\n",
      "      Size: 16384\n",
      "      Capacity: 16384\n",
      "\n",
      "===========================\n"
     ]
    },
    {
     "name": "stderr",
     "output_type": "stream",
     "text": [
      "Running itkRecursiveGaussianImageFilterIUC2IUC2... done\n",
      "done\n",
      "Running itkRecursiveGaussianImageFilterIUC2IUC2... done\n",
      "done\n"
     ]
    }
   ],
   "source": [
    "smoother.SetSigma(10)\n",
    "smoother.Update()\n",
    "print(smoother.GetOutput())\n",
    "print(\"===========================\")\n",
    "smoother.Update()\n",
    "print(smoother.GetOutput())\n",
    "print(\"===========================\")"
   ]
  },
  {
   "cell_type": "code",
   "execution_count": 36,
   "metadata": {
    "slideshow": {
     "slide_type": "fragment"
    }
   },
   "outputs": [],
   "source": [
    "# %load solutions/3_Image_Filtering_Exercise2.py"
   ]
  },
  {
   "cell_type": "markdown",
   "metadata": {
    "slideshow": {
     "slide_type": "subslide"
    }
   },
   "source": [
    "### Exercise 3: Find other image filtering algorithms\n",
    "\n",
    "The classes in ITK are organized into **Modules**, and collections of Modules are organized into **Groups**. Examine the [Image Smoothing](https://itk.org/Doxygen/html/group__ITKSmoothing.html) Module and the [Filtering](https://itk.org/Doxygen/html/group__Group-Filtering.html) Group. Can any other smoothing or denoising classes be found? \n",
    "\n",
    "### 练习3：找到其他图像滤波算法\n",
    "\n",
    "ITK中的类被组织称**Modules**的形式，Modules的集合，组织称**Groups**。可以从[Image Smoothing](https://itk.org/Doxygen/html/group__ITKSmoothing.html)和[Filtering](https://itk.org/Doxygen/html/group__Group-Filtering.html)查找。使用一下其他的smoothing和denoising类。"
   ]
  },
  {
   "cell_type": "code",
   "execution_count": 27,
   "metadata": {},
   "outputs": [
    {
     "data": {
      "application/vnd.jupyter.widget-view+json": {
       "model_id": "24674d71e69d4586949171c0f5dcf916",
       "version_major": 2,
       "version_minor": 0
      },
      "text/plain": [
       "VBox(children=(Viewer(annotations=False, geometries=[], gradient_opacity=0.22, point_sets=[], rendered_image=<…"
      ]
     },
     "metadata": {},
     "output_type": "display_data"
    }
   ],
   "source": [
    "file_name = 'data/PacMan.png'\n",
    "reader = itk.ImageFileReader.New(FileName=file_name)\n",
    "\n",
    "# `view` returns the widget object\n",
    "viewer = view(image, annotations=False)\n",
    "\n",
    "# Create an itk smoother filter object. By re-using the object, output memory-reallocation is avoided\n",
    "smoother = itk.MedianImageFilter.New(reader.GetOutput())\n",
    "\n",
    "# Define a function to use with ipywidgets `interactive`\n",
    "def smooth_and_view(radius=2):\n",
    "    smoother.SetRadius(radius)\n",
    "    smoother.Update()\n",
    "    # Update the image used in the viewer\n",
    "    viewer.image = smoother.GetOutput()\n",
    "slider = interactive(smooth_and_view, radius=(0, 10, 1))\n",
    "\n",
    "widgets.VBox([viewer, slider])"
   ]
  },
  {
   "cell_type": "code",
   "execution_count": 40,
   "metadata": {
    "scrolled": true,
    "slideshow": {
     "slide_type": "fragment"
    }
   },
   "outputs": [],
   "source": [
    "# %load solutions/3_Image_Filtering_Exercise3.py"
   ]
  },
  {
   "cell_type": "markdown",
   "metadata": {},
   "source": [
    "The answer example demonstrates how to combine `ipywidgets` native [interactive](https://ipywidgets.readthedocs.io/en/latest/examples/Using%20Interact.html) function to quickly create widgets coupled with an [`itkwidgets`](https://github.com/InsightSoftwareConsortium/itkwidgets) viewer. This is an effective method to explore algorithm parameters.\n",
    "\n",
    "答案示例演示了如何使用`ipywidgets`。[interactive](https://ipywidgets.readthedocs.io/en/latest/examples/Using%20Interact.html)函数能够快速的创建[`itkwidgets`]相结合的widgets。这是一种探索算法参数的有效方法。"
   ]
  },
  {
   "cell_type": "markdown",
   "metadata": {},
   "source": [
    "### Enjoy ITK!"
   ]
  }
 ],
 "metadata": {
  "celltoolbar": "Slideshow",
  "kernelspec": {
   "display_name": "Python 3",
   "language": "python",
   "name": "python3"
  },
  "language_info": {
   "codemirror_mode": {
    "name": "ipython",
    "version": 3
   },
   "file_extension": ".py",
   "mimetype": "text/x-python",
   "name": "python",
   "nbconvert_exporter": "python",
   "pygments_lexer": "ipython3",
   "version": "3.7.1"
  }
 },
 "nbformat": 4,
 "nbformat_minor": 1
}
