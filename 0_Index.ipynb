{
 "cells": [
  {
   "cell_type": "markdown",
   "metadata": {
    "slideshow": {
     "slide_type": "slide"
    }
   },
   "source": [
    "# Biomedical Image Analysis and Visualization: ITK\n",
    "\n",
    "### Kitware, Carrboro, North Carolina\n",
    "### October, 2019\n",
    "\n",
    "Instructors:\n",
    "\n",
    "- Matt McCormick, PhD\n",
    "\n",
    "[![Kitware](data/kitware-logo.png)](https//www.kitware.com)"
   ]
  },
  {
   "cell_type": "markdown",
   "metadata": {
    "slideshow": {
     "slide_type": "slide"
    }
   },
   "source": [
    "## Abstract\n",
    "\n",
    "[![ITK](data/itk-logo.png)](https://www.itk.org/)\n",
    "\n",
    "\n",
    "The [Insight Toolkit (ITK) (www.itk.org)](\n",
    "http://www.itk.org) has become a standard in academia and industry for\n",
    "medical image analysis. In recent years, the ITK community has\n",
    "focused on providing programming interfaces to ITK from Python and JavaScript\n",
    "and making ITK available via leading applications such as Slicer and ImageJ.\n",
    "In this course we present best practices for taking advantage of ITK in your\n",
    "imaging research and commercial products. We demonstrate how script writing\n",
    "and can be used to access the algorithms in ITK and the\n",
    "multitude of ITK extensions that are freely available on the web.\n",
    "\n",
    "[Insight Toolkit (ITK) (www.itk.org)](\n",
    "http://www.itk.org) 已经成为了医学影像分析在学术界和工业界的标准了。最近几年，ITK社区关注于提供Python和JavaScript的可编程性接口，并通过Slicer和ImageJ等主流应用程序推广ITK的应用性。在本课程中我们将介绍在你的影像研究和商用产品中使用ITK的最佳实践。我们演示了如何编写脚本，以及如何使用脚本来访问ITK中的算法和web上免费提供的众多ITK扩展。"
   ]
  },
  {
   "cell_type": "markdown",
   "metadata": {
    "slideshow": {
     "slide_type": "slide"
    }
   },
   "source": [
    "## Tutorials\n",
    "\n",
    "1. [ITK介绍 Introduction to the Insight Toolkit (ITK)](1_Introduction_to_the_Insight_Toolkit.ipynb)\n",
    "2. [python使用ITK ITK in Python](2_ITK_in_Python.ipynb)\n",
    "3. [图像过滤 Image Filtering](3_Image_Filtering.ipynb)\n",
    "4. [分割 Segmentation](4_Segmentation.ipynb)\n",
    "5. [物理空间与图像网格 Physical Space and the Image Grid](5_Physical_Space_and_the_Image_Grid.ipynb)\n",
    "6. [配准框架组件 Registration Framework Components](6_Registration_Framework_Components.ipynb)\n",
    "6. [工具扩展 Extending the Toolkit](7_Extending_the_Toolkit-Part1.ipynb)\n",
    "8. [介绍itk.js Introduction to itk.js](https://bit.ly/itkjsKitwareBiomedical2019)"
   ]
  }
 ],
 "metadata": {
  "celltoolbar": "Slideshow",
  "kernelspec": {
   "display_name": "Python 3",
   "language": "python",
   "name": "python3"
  },
  "language_info": {
   "codemirror_mode": {
    "name": "ipython",
    "version": 3
   },
   "file_extension": ".py",
   "mimetype": "text/x-python",
   "name": "python",
   "nbconvert_exporter": "python",
   "pygments_lexer": "ipython3",
   "version": "3.7.1"
  }
 },
 "nbformat": 4,
 "nbformat_minor": 1
}
