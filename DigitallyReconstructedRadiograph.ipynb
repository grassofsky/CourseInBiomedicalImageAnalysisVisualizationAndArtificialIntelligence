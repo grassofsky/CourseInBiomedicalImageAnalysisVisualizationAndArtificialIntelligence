{
 "cells": [
  {
   "cell_type": "markdown",
   "metadata": {},
   "source": [
    "## 简介\n",
    "\n",
    "该示例根据 https://github.com/InsightSoftwareConsortium/ITK/blob/master/Examples/Filtering/DigitallyReconstructedRadiograph1.cxx 实现对应python版本。\n",
    "\n",
    "## 重点类介绍\n",
    "\n",
    "### ResampleImageFilter\n",
    "\n",
    "参见：https://itk.org/Doxygen/html/classitk_1_1ResampleImageFilter.html\n",
    "\n",
    "通过坐标变换对图像进行重采样。ResampleImageFilter 通过一些坐标变换对存在的图像进行重采样，通过一些image function进行插值。\n",
    "\n",
    "注意，插值函数的选择是很重要的。这个函数通过[SetInterpolator()](https://itk.org/Doxygen/html/classitk_1_1ResampleImageFilter.html#ac2d2efedb7d195170b2d8d424b2690c4)进行设定。默认的是`LinearInterpolateImageFunction<InputImageType, TInterpolatorPrecisionType>`，对于普通的医学影像是够用了的。但是，一些合成图像的像素是从有限的指定集合中提取的。一个例子是一个Mask，它将大脑标记成少量的组织类型。对于这样的图像，并不想要对这些像素值之间的值进行插值，这个时候 `NearestNeighborInterpolateImageFunction< InputImageType, TCoordRep >`会是一个更好的选择。\n",
    "\n",
    "如果样本来自图像区域的外部，默认情况下使用默认的像素值。如果需要有不同的表现，可以通过`SetExtrapolator().`函数进行设置。\n",
    "\n",
    "输出图像的信息（spacing，size，direction）需要进行设置。这些信息具有单位间距、零原点、标识方向的默认值。可选地，可以从参考图像获得输出信息。如果提供了参考图像并且用户参考图像处于打开状态，则将使用参考图像的间距、原点和方向。\n",
    "\n",
    "\n",
    "### CenteredEuler3DTransform\n",
    "\n",
    "参见：https://itk.org/Doxygen/html/classitk_1_1CenteredEuler3DTransform.html\n",
    "\n",
    "这个变换围绕特定的坐标系或者中心进行旋转，然后进行平移。\n",
    "\n",
    "- SetComputeZYX： 旋转操作依赖于旋转顺序，设定为ZXY，或ZYX\n",
    "\n",
    "### RayCastInterpolateImageFunction\n",
    "\n",
    "将光线投射到三维图像中，并使用双线性插值对遍历的每个体素平面进行积分。\n",
    "\n",
    "- SetFocalPoint：设置光线源的位置\n",
    "- SetThreshold：设置阈值之上的voxels才会被累加\n",
    "- SetTransform：设置Transform，用来计算新的光源的位置\n"
   ]
  },
  {
   "cell_type": "code",
   "execution_count": 3,
   "metadata": {
    "slideshow": {
     "slide_type": "subslide"
    }
   },
   "outputs": [],
   "source": [
    "import math\n",
    "import numpy as np\n",
    "import itk\n",
    "import itkwidgets\n",
    "from itkwidgets import view\n",
    "from ipywidgets import interactive\n",
    "import ipywidgets as widgets"
   ]
  },
  {
   "cell_type": "code",
   "execution_count": 5,
   "metadata": {},
   "outputs": [
    {
     "name": "stdout",
     "output_type": "stream",
     "text": [
      "itkSize3 ([115, 157, 129])\n",
      "itkSize3 ([115, 157, 129])\n",
      "itkVectorD3 ([1.366, 1.366, 2.5])\n",
      "itkPointD3 ([-153.827, -150.352, -1434.5])\n"
     ]
    },
    {
     "data": {
      "application/vnd.jupyter.widget-view+json": {
       "model_id": "78420c4f04ea4dc4b1882940c39803bb",
       "version_major": 2,
       "version_minor": 0
      },
      "text/plain": [
       "Viewer(geometries=[], gradient_opacity=0.5, point_sets=[], rendered_image=<itkImagePython.itkImageF3; proxy of…"
      ]
     },
     "metadata": {},
     "output_type": "display_data"
    }
   ],
   "source": [
    "# 加载原始体数据并显示\n",
    "input_name = 'data/CT_3D_lung_fixed.mha'\n",
    "volume_lung = itk.imread(input_name, itk.ctype('float')) # 读取影像文件，并将数据格式转换为float\n",
    "print(volume_lung.GetLargestPossibleRegion().GetSize())\n",
    "print(volume_lung.GetBufferedRegion().GetSize())\n",
    "print(volume_lung.GetSpacing())\n",
    "print(volume_lung.GetOrigin())\n",
    "view(volume_lung, gradient_opacity=0.5, cmp=itkwidgets.cm.bone)"
   ]
  },
  {
   "cell_type": "code",
   "execution_count": 13,
   "metadata": {},
   "outputs": [
    {
     "name": "stdout",
     "output_type": "stream",
     "text": [
      "Volume image informations:\n",
      "\tvolume image origin :  itkPointD3 ([-153.827, -150.352, -1434.5])\n",
      "\tvolume image size   :  itkSize3 ([115, 157, 129])\n",
      "\tvolume image spacing:  itkVectorD3 ([1.366, 1.366, 2.5])\n",
      "\tvolume image center :  [-75.282, -43.120999999999995, -1273.25]\n",
      "Transform informations:\n",
      "\ttranslation         :  [0.0, 0.0, 0.0]\n",
      "\trotation            :  [0.0, 0.0, 0.0]\n",
      "\tcenter               :  [-75.282, -43.120999999999995, -1273.25]\n",
      "Interpolator informations: \n",
      "\tthreshold           :  0.0\n",
      "\tfocalPoint          :  [-75.282, -43.120999999999995, -1323.25]\n",
      "Filter informations:\n",
      "\toutput origin        :  [-416.782, -384.621, -950.75]\n"
     ]
    },
    {
     "data": {
      "application/vnd.jupyter.widget-view+json": {
       "model_id": "3d8577216995425a94e80df0e35ffd9c",
       "version_major": 2,
       "version_minor": 0
      },
      "text/plain": [
       "VBox(children=(Viewer(geometries=[], gradient_opacity=0.22, mode='z', point_sets=[], rendered_image=<itkImageP…"
      ]
     },
     "metadata": {},
     "output_type": "display_data"
    }
   ],
   "source": [
    "output_image_pixel_spacing = [1.366, 1.366, 1]\n",
    "output_image_size = [501, 501,1] #[501, 501, 1]\n",
    "    \n",
    "   \n",
    "InputImageType = type(volume_lung)\n",
    "FilterType = itk.ResampleImageFilter[InputImageType, InputImageType]\n",
    "filter = FilterType.New()\n",
    "filter.SetInput(volume_lung)\n",
    "filter.SetDefaultPixelValue(0)\n",
    "filter.SetSize(output_image_size)\n",
    "filter.SetOutputSpacing(output_image_pixel_spacing)\n",
    "    \n",
    "TransformType = itk.CenteredEuler3DTransform[itk.D]\n",
    "transform = TransformType.New()\n",
    "transform.SetComputeZYX(True)\n",
    "\n",
    "InterpolatorType = itk.RayCastInterpolateImageFunction[InputImageType, itk.D]\n",
    "interpolator = InterpolatorType.New()\n",
    "\n",
    "viewer = None\n",
    "\n",
    "def DigitallyReconstructedRadiograph(\n",
    "    ray_source_distance=100, \n",
    "    camera_tx=0., \n",
    "    camera_ty=0., \n",
    "    camera_tz=0.,\n",
    "    rotation_x=0.,\n",
    "    rotation_y=0.,\n",
    "    rotation_z=0.,\n",
    "    projection_normal_p_x=0.,\n",
    "    projection_normal_p_y=0.,\n",
    "    rotation_center_rt_volume_center_x=0.,\n",
    "    rotation_center_rt_volume_center_y=0.,\n",
    "    rotation_center_rt_volume_center_z=0.,\n",
    "    threshold=0.,\n",
    "):\n",
    "    \"\"\"\n",
    "    Parameters description:\n",
    "    \n",
    "    ray_source_distance = 400                              # <-sid float>            Distance of ray source (focal point) focal point 400mm\n",
    "    camera_translation_parameter = [0., 0., 0.]            # <-t float float float>  Translation parameter of the camera\n",
    "    rotation_around_xyz = [0., 0., 0.]                     # <-rx float>             Rotation around x,y,z axis in degrees\n",
    "    projection_normal_position = [0, 0]                    # <-normal float float>   The 2D projection normal position [default: 0x0mm]\n",
    "    rotation_center_relative_to_volume_center = [0, 0, 0]  # <-cor float float float> The centre of rotation relative to centre of volume\n",
    "    threshold = 10                                          # <-threshold float>      Threshold [default: 0]\n",
    "    \"\"\"\n",
    "\n",
    "\n",
    "    dgree_to_radius_coef = 1./180.*math.pi\n",
    "    camera_translation_parameter = [camera_tx, camera_ty, camera_tz]\n",
    "    rotation_around_xyz = [rotation_x*dgree_to_radius_coef, rotation_y*dgree_to_radius_coef, rotation_z*dgree_to_radius_coef]\n",
    "    projection_normal_position = [projection_normal_p_x, projection_normal_p_y]\n",
    "    rotation_center_relative_to_volume_center = [\n",
    "        rotation_center_rt_volume_center_x, \n",
    "        rotation_center_rt_volume_center_y, \n",
    "        rotation_center_rt_volume_center_z\n",
    "    ]\n",
    "    \n",
    "    imageOrigin = volume_lung.GetOrigin()\n",
    "    imageSpacing = volume_lung.GetSpacing()\n",
    "    imageRegion = volume_lung.GetBufferedRegion()\n",
    "    imageSize = imageRegion.GetSize()\n",
    "    imageCenter = [imageOrigin[i] + imageSpacing[i]*imageSize[i]/2.0 for i in range(3)]\n",
    "    \n",
    "    transform.SetTranslation(camera_translation_parameter)\n",
    "    transform.SetRotation(rotation_around_xyz[0], rotation_around_xyz[1], rotation_around_xyz[2])\n",
    "\n",
    "    center = [c + imageCenter[i] for i, c in enumerate(rotation_center_relative_to_volume_center)]\n",
    "    transform.SetCenter(center)\n",
    "    \n",
    "    interpolator.SetTransform(transform)\n",
    "    interpolator.SetThreshold(threshold)\n",
    "    focalPoint = [imageCenter[0], imageCenter[1], imageCenter[2] - ray_source_distance/2.0]\n",
    "    interpolator.SetFocalPoint(focalPoint)\n",
    "    \n",
    "    filter.SetInterpolator(interpolator)\n",
    "    filter.SetTransform(transform)\n",
    "\n",
    "    origin = [\n",
    "        imageCenter[0] + projection_normal_position[0] - output_image_pixel_spacing[0]*(output_image_size[0] - 1)/2.,\n",
    "        imageCenter[1] + projection_normal_position[1] - output_image_pixel_spacing[1]*(output_image_size[1] - 1)/2.,\n",
    "        imageCenter[2] + imageSpacing[2]*imageSize[2]\n",
    "    ]\n",
    "\n",
    "    filter.SetOutputOrigin(origin)\n",
    "    filter.Update()\n",
    "\n",
    "    global viewer\n",
    "    if viewer is None:\n",
    "        viewer = view(filter.GetOutput(), mode='z')\n",
    "    else:\n",
    "        print(\"Update viewer image\")\n",
    "        viewer.image = filter.GetOutput()\n",
    "    \n",
    "    # print informations\n",
    "    print(\"Volume image informations:\")\n",
    "    print(\"\\tvolume image origin : \", imageOrigin)\n",
    "    print(\"\\tvolume image size   : \", imageSize)\n",
    "    print(\"\\tvolume image spacing: \", imageSpacing)\n",
    "    print(\"\\tvolume image center : \", imageCenter)\n",
    "    print(\"Transform informations:\")\n",
    "    print(\"\\ttranslation         : \", camera_translation_parameter)\n",
    "    print(\"\\trotation            : \", rotation_around_xyz)\n",
    "    print(\"\\tcenter               : \", center)\n",
    "    print(\"Interpolator informations: \")\n",
    "    print(\"\\tthreshold           : \", threshold)\n",
    "    print(\"\\tfocalPoint          : \", focalPoint)\n",
    "    print(\"Filter informations:\")\n",
    "    print(\"\\toutput origin        : \", origin)\n",
    "  \n",
    "\n",
    "DigitallyReconstructedRadiograph()\n",
    "\n",
    "slider = interactive(\n",
    "    DigitallyReconstructedRadiograph, \n",
    "    ray_source_distance=(0, 800, 50),\n",
    "    camera_tx=(-400, 400,10), \n",
    "    camera_ty=(-400, 400,10), \n",
    "    camera_tz=(-400, 400,10),\n",
    "    rotation_x=(-45,45,1),\n",
    "    rotation_y=(-45,45,1),\n",
    "    rotation_z=(-45,45,1),\n",
    "    projection_normal_p_x=(-100,100,1),\n",
    "    projection_normal_p_y=(-100,100,1),\n",
    "    rotation_center_rt_volume_center_x=(-100,100,1),\n",
    "    rotation_center_rt_volume_center_y=(-100,100,1),\n",
    "    rotation_center_rt_volume_center_z=(-100,100,1),\n",
    ")\n",
    "\n",
    "widgets.VBox([viewer, slider])"
   ]
  }
 ],
 "metadata": {
  "kernelspec": {
   "display_name": "Python 3",
   "language": "python",
   "name": "python3"
  },
  "language_info": {
   "codemirror_mode": {
    "name": "ipython",
    "version": 3
   },
   "file_extension": ".py",
   "mimetype": "text/x-python",
   "name": "python",
   "nbconvert_exporter": "python",
   "pygments_lexer": "ipython3",
   "version": "3.7.1"
  }
 },
 "nbformat": 4,
 "nbformat_minor": 2
}
